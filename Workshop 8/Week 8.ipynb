{
 "cells": [
  {
   "cell_type": "markdown",
   "id": "8018bc56",
   "metadata": {},
   "source": [
    "<img src=\"30S.png\" width=\"50%\" alt=\"Image of 30S ribosomal subunit\" style=\"float:right\"/>\n",
    "\n",
    "# Ribosomal Database Project\n",
    "\n",
    "The Ribosomal Database Project (RDP) is a bioinformatics project that aims to provide a comprehensive database of ribosomal RNA (rRNA) sequences and related data for use in phylogenetic analysis and microbial ecology research. The project was initiated in 1984 by Carl Woese, a pioneer in the field of molecular evolution, and is currently maintained by a team of researchers at Michigan State University.\n",
    "\n",
    "The RDP contains a curated database of rRNA sequences from bacteria, archaea, and eukaryotes. The database includes both 16S and 18S rRNA sequences, which are commonly used as molecular markers for bacterial and eukaryotic phylogenetic analysis, respectively. \n",
    "\n",
    "In this workshop, we'll use a curated file of approximately 15000 16S rDNA sequences.\n"
   ]
  },
  {
   "cell_type": "markdown",
   "id": "da276969",
   "metadata": {},
   "source": [
    "# Retrieving your Sequences\n",
    "\n",
    "The 16S sequences obtained by Nanopore sequencing have been provided in a csv file called `16S_sequences_23.csv`.\n",
    "\n",
    "Samples were identified by using extra sequences known as 'barcodes' that were added to the PCR primers. Each sample was tagged with a unique combination from 12 forward and 8 reverse primer sequences, as shown in the picture below.\n",
    "\n",
    "Identify your sample's forward and reverse primers from the image below:\n",
    "\n",
    "<img src=\"dna_samples_w5_23.png\" width=\"85%\" alt=\"DNA samples\"/>\n",
    "\n",
    "# Workshop tasks\n",
    "\n",
    "Today's workshop is divided into 5 sections:\n",
    "* Retrieving your 16S sequences\n",
    "* Loading the reference 16S sequence database\n",
    "* Searching for database matches\n",
    "* Visualising your analysis results\n",
    "* Evaluation and Reflection on Results\n",
    "\n",
    "### Retrieving your 16S sequences\n",
    "\n",
    "1. Load the file 'Discovery_23_16S_consensus.csv' into memory. Explore the dataframe. Retrieve your 16S sequences from the Pandas dataframe using the `.query()` function by looking for rows that match your combination of forward and reverse primers. If there is no match for your group's 2 pairs of forward and reverse primers, run the code below and look for a combination of forward and reverse primers that does have reads, and select one you like the look of for further analysis in this workshop. \n",
    "```python \n",
    "#load the dataframe\n",
    "df=pd.read_csv(\"Discovery_23_16S_consensus.csv\")\n",
    "# Create a contingency table of the forward and reverse indices\n",
    "ct = pd.crosstab(df['reverse_primer'], df['forward_primer'])\n",
    "print(ct)\n",
    "```\n",
    "\n",
    "2. Extract your 16S sequences to a list using `.tolist()`. From the list, try extracting individual sequences using indexing (for example mylist[0] or mylist [1]).\n"
   ]
  },
  {
   "cell_type": "markdown",
   "id": "231723e1",
   "metadata": {},
   "source": [
    "\n"
   ]
  },
  {
   "cell_type": "code",
   "execution_count": null,
   "id": "0c1be94d",
   "metadata": {},
   "outputs": [],
   "source": []
  },
  {
   "cell_type": "code",
   "execution_count": null,
   "id": "17fd9f75",
   "metadata": {},
   "outputs": [],
   "source": []
  },
  {
   "cell_type": "markdown",
   "id": "73cdc167",
   "metadata": {},
   "source": [
    "### Loading the reference 16S sequence database\n",
    "\n",
    "3. Load the 16S_reference.csv database into a pandas dataframe (use a different name to that you used when loading your sequences). This is a large version of the 'mini' dataframe you used last week. How many sequences are in the database?\n",
    "\n",
    "\n"
   ]
  },
  {
   "cell_type": "code",
   "execution_count": null,
   "id": "4fb4a2b1",
   "metadata": {},
   "outputs": [],
   "source": []
  },
  {
   "cell_type": "markdown",
   "id": "710f0100",
   "metadata": {},
   "source": [
    "\n",
    "### Searching for database matches\n",
    "\n",
    "4. For each sequence, create a new column in the Pandas dataframe that represents the Levenshtein distance between that sequence and the sequences in the dataframe. The code you developed at the end of the week 7 workshop is close to what you will need to use here. Make sure that you create a different column name for the distance to each sequence, for example 'dist_to_seq_1', 'dist_to_seq_2', etc. You can do this by running modified code for each of your group's sequences in turn (or each person can analyse a different one). If you're feeling comfortable and advanced, you could use a loop to process all sequences in your list of your group's sequences.\n",
    "5. Identify the best match(es) for each sequence: how close is the match? \n"
   ]
  },
  {
   "cell_type": "code",
   "execution_count": 6,
   "id": "82b33951",
   "metadata": {},
   "outputs": [
    {
     "name": "stdout",
     "output_type": "stream",
     "text": [
      "Requirement already satisfied: levenshtein in /Users/gcowan2/opt/anaconda3/lib/python3.8/site-packages (0.20.9)\n",
      "Requirement already satisfied: rapidfuzz<3.0.0,>=2.3.0 in /Users/gcowan2/opt/anaconda3/lib/python3.8/site-packages (from levenshtein) (2.13.7)\n"
     ]
    }
   ],
   "source": [
    "!pip install levenshtein\n",
    "#pip is a package manager:this command installs the levenshtein package on our Noteable instance."
   ]
  },
  {
   "cell_type": "code",
   "execution_count": 7,
   "id": "1c6357a1",
   "metadata": {},
   "outputs": [],
   "source": [
    "from Levenshtein import distance\n",
    "\n"
   ]
  },
  {
   "cell_type": "code",
   "execution_count": null,
   "id": "100c1f21",
   "metadata": {},
   "outputs": [],
   "source": []
  },
  {
   "cell_type": "code",
   "execution_count": null,
   "id": "8a1ea989",
   "metadata": {},
   "outputs": [],
   "source": []
  },
  {
   "cell_type": "markdown",
   "id": "c4b503d3",
   "metadata": {},
   "source": [
    "### Visualising your analysis results\n",
    "\n",
    "6. Run a needleman_wunsch alignment between your 16S sequence(s) and the best match. How much of the sequence is aligned? Can you see poorer alignment at the ends of the sequence caused by the presence of PCR primers in your sequence?\n",
    "\n",
    "An example code for running a Needleman-Wunsch alignment is shown below:\n",
    "\n",
    "```python\n",
    "import needleman_wunsch\n",
    "seq1='ATGCTGAGCTAGCGGCTATATTCTATCGGGAGCGATTTACTACTC'\n",
    "seq2='ATGCTAGGTAGCGGACTATATACTATCGCGAGCGATTAACTAGCC'\n",
    "print(needleman_wunsch.align(seq1, seq2))\n",
    "```\n",
    "Expected output:\n",
    "```\n",
    "seq1: ATGCTGAGCTAGCGG-CTATATTCTATCGGGAGCGATTTACTA-CTC\n",
    "      ||||| || |||||| |||||| |||||| |||||||| |||| | |\n",
    "seq2: ATGCT-AGGTAGCGGACTATATACTATCGCGAGCGATTAACTAGC-C\n",
    "```\n",
    "\n"
   ]
  },
  {
   "cell_type": "code",
   "execution_count": null,
   "id": "77cd6224",
   "metadata": {},
   "outputs": [],
   "source": []
  },
  {
   "cell_type": "markdown",
   "id": "2d53ba27",
   "metadata": {},
   "source": [
    "### Evaluation and Reflection on Results\n",
    "\n",
    "7. Draw a histogram of the sequence distances between your group's 16S sequence(s) and each of the sequences in the database. What is the species that has the most distant sequence in the database for your 16S sequence? Does that make sense when put into the context of the tree of life?\n",
    "8. Is the species you've identified known to produce antimicrobial compounds? \n",
    "9. Do you think that the species classification has been accurately predicted? What factors could affect the accuracy of your sequencing hit?\n"
   ]
  },
  {
   "cell_type": "code",
   "execution_count": 2,
   "id": "676ac2dd",
   "metadata": {},
   "outputs": [],
   "source": [
    "import seaborn as sns\n",
    "\n",
    "\n"
   ]
  },
  {
   "cell_type": "code",
   "execution_count": null,
   "id": "a1fc15a2",
   "metadata": {},
   "outputs": [],
   "source": []
  },
  {
   "cell_type": "code",
   "execution_count": null,
   "id": "f918afb3",
   "metadata": {},
   "outputs": [],
   "source": []
  },
  {
   "cell_type": "code",
   "execution_count": null,
   "id": "e6d6f10d",
   "metadata": {},
   "outputs": [],
   "source": []
  }
 ],
 "metadata": {
  "kernelspec": {
   "display_name": "Python 3 (ipykernel)",
   "language": "python",
   "name": "python3"
  },
  "language_info": {
   "codemirror_mode": {
    "name": "ipython",
    "version": 3
   },
   "file_extension": ".py",
   "mimetype": "text/x-python",
   "name": "python",
   "nbconvert_exporter": "python",
   "pygments_lexer": "ipython3",
   "version": "3.8.16"
  }
 },
 "nbformat": 4,
 "nbformat_minor": 5
}
