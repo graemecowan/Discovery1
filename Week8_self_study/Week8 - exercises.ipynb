{
 "cells": [
  {
   "cell_type": "markdown",
   "id": "b63ae3e2",
   "metadata": {},
   "source": [
    "# Exercises\n",
    "\n",
    "These exercises are designed to give you practice in using Pandas. The dataframe is intentionally simple to allow you to visualise what is going on - please also experiment - try out different variants of code and see what happens. Experimentation is a really good way to learn to code!\n",
    "\n",
    "You shoudl use the \n",
    "\n",
    "Working with the dataframe defined in the cell below, answer the questions set below:"
   ]
  },
  {
   "cell_type": "code",
   "execution_count": 4,
   "id": "b7ed9463",
   "metadata": {},
   "outputs": [
    {
     "data": {
      "text/html": [
       "<div>\n",
       "<style scoped>\n",
       "    .dataframe tbody tr th:only-of-type {\n",
       "        vertical-align: middle;\n",
       "    }\n",
       "\n",
       "    .dataframe tbody tr th {\n",
       "        vertical-align: top;\n",
       "    }\n",
       "\n",
       "    .dataframe thead th {\n",
       "        text-align: right;\n",
       "    }\n",
       "</style>\n",
       "<table border=\"1\" class=\"dataframe\">\n",
       "  <thead>\n",
       "    <tr style=\"text-align: right;\">\n",
       "      <th></th>\n",
       "      <th>A</th>\n",
       "      <th>B</th>\n",
       "      <th>C</th>\n",
       "      <th>D</th>\n",
       "    </tr>\n",
       "  </thead>\n",
       "  <tbody>\n",
       "    <tr>\n",
       "      <th>0</th>\n",
       "      <td>1</td>\n",
       "      <td>2</td>\n",
       "      <td>3</td>\n",
       "      <td>4</td>\n",
       "    </tr>\n",
       "    <tr>\n",
       "      <th>1</th>\n",
       "      <td>5</td>\n",
       "      <td>6</td>\n",
       "      <td>7</td>\n",
       "      <td>8</td>\n",
       "    </tr>\n",
       "    <tr>\n",
       "      <th>2</th>\n",
       "      <td>9</td>\n",
       "      <td>10</td>\n",
       "      <td>11</td>\n",
       "      <td>12</td>\n",
       "    </tr>\n",
       "  </tbody>\n",
       "</table>\n",
       "</div>"
      ],
      "text/plain": [
       "   A   B   C   D\n",
       "0  1   2   3   4\n",
       "1  5   6   7   8\n",
       "2  9  10  11  12"
      ]
     },
     "execution_count": 4,
     "metadata": {},
     "output_type": "execute_result"
    }
   ],
   "source": [
    "import pandas as pd\n",
    "\n",
    "# Define DataFrame for all exercises\n",
    "data = {'A': [1, 5, 9], 'B': [2, 6, 10], 'C': [3, 7, 11], 'D': [4, 8, 12]}\n",
    "df = pd.DataFrame(data)\n",
    "df"
   ]
  },
  {
   "cell_type": "markdown",
   "id": "023b7978",
   "metadata": {},
   "source": [
    "# Exercise 1:\n",
    "Select the second column (i.e. column B) using both the bracket notation and the dot notation, printing the contents out. You may need to Google this since we have only used the bracket notation in class."
   ]
  },
  {
   "cell_type": "code",
   "execution_count": null,
   "id": "d56aa949",
   "metadata": {},
   "outputs": [],
   "source": []
  },
  {
   "cell_type": "markdown",
   "id": "da49a18d",
   "metadata": {},
   "source": [
    "# Exercise 2:\n",
    "Select the first and third columns (i.e. columns A and C) using the bracket notation, and print the contents to screen. Try using both the print() and display() functions. "
   ]
  },
  {
   "cell_type": "code",
   "execution_count": null,
   "id": "bb4624b3",
   "metadata": {},
   "outputs": [],
   "source": []
  },
  {
   "cell_type": "markdown",
   "id": "3cc730b1",
   "metadata": {},
   "source": [
    "# Exercise 3:\n",
    "Create a new DataFrame named `df2` that contains only the second and fourth columns (i.e. columns B and D)."
   ]
  },
  {
   "cell_type": "code",
   "execution_count": null,
   "id": "a48f09a1",
   "metadata": {},
   "outputs": [],
   "source": []
  },
  {
   "cell_type": "markdown",
   "id": "6afe18be",
   "metadata": {},
   "source": [
    "# Exercise 4:\n",
    "Apply the function 'square' to the values in column 'A' and place the results in a new column 'E'.\n",
    "\n"
   ]
  },
  {
   "cell_type": "code",
   "execution_count": null,
   "id": "23b27978",
   "metadata": {},
   "outputs": [],
   "source": [
    "def square(x):\n",
    "    return x**2\n"
   ]
  },
  {
   "cell_type": "markdown",
   "id": "750e3069",
   "metadata": {},
   "source": [
    "# Exercise 5:\n",
    "\n",
    "Return the maximum value in column 'B'. What is the corresponding value in that row in column 'A'?\n",
    "\n",
    "*Hint: This is best calculated in stages. One way to do this is to calculate the maximum value in column B, then use .query() to return rows that have that value in column B. Finally, you can extract the value in column A from that row.*"
   ]
  },
  {
   "cell_type": "code",
   "execution_count": null,
   "id": "3c7ec79d",
   "metadata": {},
   "outputs": [],
   "source": []
  },
  {
   "cell_type": "code",
   "execution_count": null,
   "id": "747fd395",
   "metadata": {},
   "outputs": [],
   "source": []
  },
  {
   "cell_type": "code",
   "execution_count": null,
   "id": "6f3c9acb",
   "metadata": {},
   "outputs": [],
   "source": []
  },
  {
   "cell_type": "markdown",
   "id": "81b41a30",
   "metadata": {},
   "source": [
    "# Solutions"
   ]
  },
  {
   "cell_type": "code",
   "execution_count": null,
   "id": "880c9298",
   "metadata": {},
   "outputs": [],
   "source": [
    "\n",
    "# Exercise 1:\n",
    "# Select the second column (i.e. column B) using both the bracket notation and the dot notation.\n",
    "col_B = df['B']\n",
    "col_B_dot = df.B\n",
    "print(col_B)\n",
    "print(col_B_dot)\n",
    "\n",
    "# Exercise 2:\n",
    "# Select the first and third columns (i.e. columns A and C) using the bracket notation.\n",
    "col_A_C = df[['A', 'C']]\n",
    "display(col_A_C)\n",
    "\n",
    "# Exercise 3:\n",
    "# Create a new DataFrame named `df2` that contains only the second and fourth columns (i.e. columns B and D).\n",
    "df2 = df[['B', 'D']]\n",
    "display(df2)\n",
    "\n",
    "# Exercise 4:\n",
    "# Apply a function that returns the square of each element in the DataFrame.\n",
    "def square(x):\n",
    "    return x**2\n",
    "df['E'] = df['A'].apply(square)\n",
    "display(df)\n",
    "\n",
    "# Exercise 5:\n",
    "# Return the maximum value in column 'B'. What is the corresponding value in that row in column 'A'?\n",
    "max_B = df['B'].max()\n",
    "max_A = df.query('B == @max_B')['A'].iloc[0]\n",
    "print('Maximum value in column B:', max_B)\n",
    "print('Corresponding value in column A:', max_A)\n",
    "\n",
    "#Alternative solution using .loc\n",
    "max_B = df['B'].max()\n",
    "max_A = df.loc[df['B'] == max_B, 'A'].iloc[0]\n",
    "print('Maximum value in column B:', max_B)\n",
    "print('Corresponding value in column A:', max_A)\n",
    "\n",
    "#This code uses the max method to find the maximum value in column 'B', and then uses the loc method to find the corresponding value in column 'A'. The loc method filters the DataFrame to include only the rows where the value in column 'B' is equal to the maximum value, and then selects the first value in column 'A' from that filtered DataFrame using the iloc method.\n"
   ]
  },
  {
   "cell_type": "code",
   "execution_count": null,
   "id": "1c7df5f0",
   "metadata": {},
   "outputs": [],
   "source": []
  },
  {
   "cell_type": "code",
   "execution_count": null,
   "id": "a1460b6d",
   "metadata": {},
   "outputs": [],
   "source": []
  }
 ],
 "metadata": {
  "kernelspec": {
   "display_name": "Python 3 (ipykernel)",
   "language": "python",
   "name": "python3"
  },
  "language_info": {
   "codemirror_mode": {
    "name": "ipython",
    "version": 3
   },
   "file_extension": ".py",
   "mimetype": "text/x-python",
   "name": "python",
   "nbconvert_exporter": "python",
   "pygments_lexer": "ipython3",
   "version": "3.11.7"
  }
 },
 "nbformat": 4,
 "nbformat_minor": 5
}
