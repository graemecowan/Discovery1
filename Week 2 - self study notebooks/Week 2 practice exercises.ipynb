{
 "cells": [
  {
   "cell_type": "markdown",
   "id": "eec40c05-e2cb-43ca-8999-ee7e165224cf",
   "metadata": {},
   "source": [
    "#### Discovery 1: Week 2 Practice Exercises\n",
    "\n",
    "The Gapminder dataset is a rich, widely-used resource in data science education, offering comprehensive global development indicators such as life expectancy, GDP per capita, and population for various countries over time. This dataset is provided as a free resource by the Gapminder Foundation (https://www.gapminder.org/), founded by the late Hans Rosling (<https://www.ted.com/talks/hans_rosling_the_best_stats_you_ve_ever_seen>) .\n",
    "\n",
    "1. Open the dataset in the file 'gapminder.csv'. \n",
    "\n",
    "2. Print a list of all years for which data is available in this dataset. *Hint: use .unique().*\n",
    "\n",
    "3. Create a new dataframe with only the data from 2007. *Hint: use .query()*\n",
    "   \n",
    "4. Draw a graph that shows the relationship between life expenctancy and GDP per capita for all countries, based on data from 2007. Colour the points according to the continent. *Hint: first filter the data to show only entries from 1952, then use sns.scatterplot().*\n",
    "\n",
    "   Model answers are shown in the 'Week 2 exercise answers' notebook.\n"
   ]
  },
  {
   "cell_type": "code",
   "execution_count": 28,
   "id": "8cb737f9-1b23-40f6-bf40-b559e5101ec8",
   "metadata": {},
   "outputs": [],
   "source": [
    "#your code here"
   ]
  },
  {
   "cell_type": "code",
   "execution_count": null,
   "id": "106bcf7e-4ce4-4abe-a07d-9483adabadb9",
   "metadata": {},
   "outputs": [],
   "source": []
  }
 ],
 "metadata": {
  "kernelspec": {
   "display_name": "Python 3 (ipykernel)",
   "language": "python",
   "name": "python3"
  },
  "language_info": {
   "codemirror_mode": {
    "name": "ipython",
    "version": 3
   },
   "file_extension": ".py",
   "mimetype": "text/x-python",
   "name": "python",
   "nbconvert_exporter": "python",
   "pygments_lexer": "ipython3",
   "version": "3.11.7"
  }
 },
 "nbformat": 4,
 "nbformat_minor": 5
}
