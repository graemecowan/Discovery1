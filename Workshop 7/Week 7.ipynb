{
 "cells": [
  {
   "cell_type": "markdown",
   "metadata": {},
   "source": [
    "# What happened next?\n",
    "\n",
    "In the lab in week 5, you isolated genomic DNA from colonies of interest. We used PCR to amplify the 16S rDNA gene from your sample and sequenced it using Nanopore sequencing. Since Nanopore sequencing can accommodate very long sequencing reads, the PCR used primers called 27F (forward) and 1492R (reverse) that amplify up nearly the entire length of the 16S rDNA. \n",
    "\n",
    "To learn more about PCR and Nanopore sequencing, please see the hyperlinks before (please watch these outwith the workshop)\n",
    "\n",
    "  * How does PCR work? -https://www.genome.gov/genetics-glossary/Polymerase-Chain-Reaction\n",
    "  * How does Nanopore sequencing work? - https://www.youtube.com/watch?v=qzusVw4Dp8w\n",
    "  \n",
    "#### Additional resources:\n",
    "\n",
    "- This workshop deals with Levenshtein distance. Useful video to aid your understanding of the algorithm are located on Youtube at https://youtu.be/MiqoA-yF-0M and https://youtu.be/Dd_NgYVOdLk. \n",
    "\n",
    "- I have provided a Python syntax cheatsheet in the root folder for today's workshop. It contains some information that you have not (yet) encountered, so dont be concerned if there are areas you dont recognise. \n"
   ]
  },
  {
   "cell_type": "markdown",
   "metadata": {},
   "source": [
    "# Workshop 7: Tools for analysing 16S rDNA sequences\n",
    "\n",
    "## Workshop Outline <img src=\"30S.png\" style=\"float:right\" width=\"45%\" alt=\"Image of 16S structure / full 70S rendered in Pymol (4V5D) \"/>\n",
    "\n",
    "16S rDNA is the gene that codes for the 16S rRNA subunit. The 16S rRNA subunit is a component of the bacterial ribosome, which is responsible for protein synthesis. Because the 16S rRNA gene is conserved across bacterial species, it is a commonly targeted region for amplification and sequencing in microbial ecology studies. The resulting 16S rRNA sequences can then be used to identify different bacterial taxa and analyze microbial communities.\n",
    "\n",
    "In week 5, we sequenced 16S rDNA gene sequences from the microorganisms you isolated in the laboratory. The aims of the workshops in week 7 and 8 are to:\n",
    "\n",
    "* Understand the Hamming and Levenshtein distance algorithms\n",
    "* Retrieve your 16S rDNA sequences\n",
    "* Identify your bacterial strain(s) by comparing your sequence with a database of 16s rDNA sequences from known bacterial species.\n",
    "\n",
    "Not all groups will have data for each sample submitted: some isolates were fungi, which have an 18S rRNA subunit that will not amplify in the 16S PCR. Other technical variations mean that not every reaction will have worked. If you have no data, you'll be provided with 16S sequences from other groups in the class to work with. \n",
    "\n",
    "# Comparing Sequences\n",
    "\n",
    "Our goal is to find the 16S DNA sequence from a database of known sequences that is the most similar to 16S sequence(s) that you obtained in the lab. To do this, we'll need to compare our known 16S sequence against each of the sequence in the database and find the one that is the most similar. To quantify how similar sequences are, we'll use a metric called **distance measures** : a lower value on a distance measure will indicate greater similarity. \n",
    "\n",
    "Example: \n",
    "Which of the following sequences is the DNA most like?\n",
    "\n",
    "Unknown Organism ATTGACTTATCGGACTTTGC\n",
    "\n",
    "Bacillus subtilis ACTGACTTAGCGGACTTAGC\n",
    "Escherichia coli ATTCGGATCTTTAGGCTTAT\n",
    "Bacillus anthracis ATTCGATTCGGATTCGGGAA\n",
    "\n",
    "# Sequence Distance Measures\n",
    "\n",
    "### What is sequence distance?\n",
    "\n",
    "DNA sequence distance measures are methods used to quantify the differences between two or more DNA sequences. These measures are important in various fields of research, including molecular biology, bioinformatics, and evolutionary biology. By measuring sequence distance, researchers can gain insights into the evolutionary relationships between organisms, identify genetic mutations that are associated with diseases or other traits, and analyze the structure and function of DNA sequences.\n",
    "\n",
    "The choice of distance measure depends on the type of data being analyzed and the specific research question being addressed: here we will use two common distance measures known as **Hamming Distance** and **Levenshtein Distance**.\n",
    "\n",
    "The Hamming distance is a measure of the number of positions at which the corresponding symbols in two sequences are different. It is commonly used in computer science and information theory, and is also relevant in DNA sequencing. The Levenshtein distance, on the other hand, is a measure of the minimum number of operations (insertion, deletion, or substitution) required to transform one sequence into another. It is useful for comparing DNA sequences with insertions, deletions, and substitutions.\n",
    "\n",
    "In this workshop, we will explore the concepts of Hamming distance and Levenshtein distance in the context of DNA sequencing, specifically for the analysis of 16S rRNA gene sequences. We will learn how to calculate the distance between two sequences using these methods, and understand the significance of the results in the context of species identification. We will also discuss the limitations and applications of these methods in biological research. \n"
   ]
  },
  {
   "cell_type": "markdown",
   "metadata": {},
   "source": [
    "# Hamming Distance\n",
    "\n",
    "Hamming distance is a measure of the difference between two sequences of the same length, where the distance is calculated by counting the number of positions at which the corresponding symbols in the two sequences differ. In the context of DNA sequences, the symbols are the four nucleotides (adenine, thymine, guanine, and cytosine) represented by the letters A, T, G, and C, respectively.\n",
    "\n",
    "When comparing two DNA sequences using Hamming distance, each nucleotide in the two sequences is compared position by position. For example, if we have two DNA sequences:\n",
    "```\n",
    "Sequence 1: ACTGTTCA\n",
    "Sequence 2: ACGGCTCA\n",
    "```\n",
    "\n",
    "We can calculate the Hamming distance between these two sequences by counting the number of positions at which the corresponding nucleotides differ. In this case, there are two positions where the sequences dont match. \n",
    "```\n",
    "Sequence 1: ACTGTTCA\n",
    "            || | |||\n",
    "Sequence 2: ACGGCTCA\n",
    "```\n",
    "\n",
    "Therefore, the Hamming distance between these two sequences is 2, as there are two positions at which the nucleotides differ.\n",
    "\n",
    "Hamming distance is commonly used in bioinformatics to compare DNA sequences, as it provides a simple and efficient way to quantify the difference between two sequences. \n",
    "\n",
    "### Task 1: Calculating Hamming Distance\n",
    "\n",
    "Using the whiteboard at your group table, calculate the Hamming distance between each pair of strings below:\n",
    "```\n",
    "string1 = 'science'\n",
    "string2 = 'silence'\n",
    "```\n",
    "```\n",
    "string1 = 'teacher'\n",
    "string2 = 'heather'\n",
    "```\n",
    "```\n",
    "string1 = 'crimson'\n",
    "string2 = 'blossom'\n",
    "```\n",
    "```\n",
    "string1 = 'ACTGATC'\n",
    "string2 = 'ATCGACT'\n",
    "```"
   ]
  },
  {
   "cell_type": "markdown",
   "metadata": {
    "solution2": "hidden",
    "solution2_first": true
   },
   "source": [
    "### Task 2 : Calculating Hamming distance using Python\n",
    "\n",
    "Write a Python function that takes two strings as arguments and returns the Hamming distance between them. To help you to write your code, think about the process you followed when you compared the strings above: what repeat operations (loop) did you use, and what decisions did you have to make (conditionals)?\n",
    "\n",
    "For Python revision and hints, click the show solution slider below:\n"
   ]
  },
  {
   "cell_type": "code",
   "execution_count": null,
   "metadata": {
    "solution2": "hidden"
   },
   "outputs": [],
   "source": [
    "#Accessing individual characters in a string \n",
    "#Remember that Python starts indexes at 0, so str[0]is the first character, str[1] is the second...\n",
    "\n",
    "my_string=\"potato\"\n",
    "print(my_string[3]) #access the character at index 3 (position 4) i.e. 'a'\n"
   ]
  },
  {
   "cell_type": "code",
   "execution_count": null,
   "metadata": {
    "solution2": "hidden"
   },
   "outputs": [],
   "source": [
    "#looping through string\n",
    "\n",
    "for character in my_string:\n",
    "    print(character)\n",
    "    "
   ]
  },
  {
   "cell_type": "code",
   "execution_count": null,
   "metadata": {
    "solution2": "hidden"
   },
   "outputs": [],
   "source": [
    "#getting length of string\n",
    "print(len(my_string))"
   ]
  },
  {
   "cell_type": "code",
   "execution_count": null,
   "metadata": {
    "solution2": "hidden"
   },
   "outputs": [],
   "source": [
    "\n",
    "#looping over the indices of a string - use range(len())\n",
    "\n",
    "for i in range(len(my_string)):\n",
    "    print(f'The character at index {i} is {my_string[i]}')\n",
    "    "
   ]
  },
  {
   "cell_type": "code",
   "execution_count": null,
   "metadata": {
    "solution2": "hidden"
   },
   "outputs": [],
   "source": [
    "# comparisons == or !=\n",
    "\n",
    "if my_string[3] == 'a':\n",
    "    print('This code will run of the fourth character (3rd index) of my_string is a')"
   ]
  },
  {
   "cell_type": "code",
   "execution_count": null,
   "metadata": {},
   "outputs": [],
   "source": [
    "# Write a Python function named 'hamming' that calculates the hamming distance between two strings\n",
    "\n",
    "def hamming_distance(str1, str2):\n"
   ]
  },
  {
   "cell_type": "markdown",
   "metadata": {},
   "source": [
    "# 16S sequences vary in length\n",
    "\n",
    "16S sequences are not all the same length. The 16S ribosomal RNA (rRNA) gene is present in all bacteria and archaea, and is commonly used for microbial identification and phylogenetic analysis. The length of the 16S rRNA gene varies among different microbial species, typically ranging from around 1,200 to 1,500 base pairs (bp). However, even within the same species, there can be some natural variation in the length of the 16S rRNA gene due to the presence of introns or other genetic elements.\n",
    "\n",
    "When working with 16S rRNA gene sequences, it is important to take into account the variation in length among different sequences. This can be achieved by aligning the sequences and trimming them to a common length, or by using software that can handle variable sequence lengths."
   ]
  },
  {
   "cell_type": "markdown",
   "metadata": {},
   "source": [
    "# Levenshtein distance\n",
    "\n",
    "Levenshtein distance, also known as edit distance, is another measure of the difference between two sequences. Unlike Hamming distance, which only allows for substitutions as a type of difference, Levenshtein distance considers three types of differences between two strings: insertion, deletion, and substitution of a single character.\n",
    "\n",
    "In the context of DNA sequences, Levenshtein distance can be used to compare sequences that are not necessarily of the same length, as it takes into account the possibility of insertions and deletions. This makes Levenshtein distance a more flexible and powerful metric than Hamming distance.\n",
    "\n",
    "To calculate the Levenshtein distance between two strings, we can use dynamic programming to build a matrix of distances between all pairs of substrings of the two strings. Starting from the top left corner of the matrix, we fill in each cell by considering three possible operations:\n",
    "\n",
    "If the characters in the two strings at the current position are the same, we copy the value from the diagonal cell (i.e., no operation is needed).\n",
    "If the characters are different, we add 1 to the minimum of the values in the three adjacent cells (left, top, and diagonal), corresponding to insertion, deletion, and substitution, respectively.\n",
    "Finally, the value in the bottom right corner of the matrix gives the Levenshtein distance between the two strings.\n"
   ]
  },
  {
   "cell_type": "markdown",
   "metadata": {},
   "source": [
    "# Calculating Levenshtein Distance\n",
    "\n"
   ]
  },
  {
   "cell_type": "markdown",
   "metadata": {},
   "source": [
    " <img src=\"levenshtein_matrix.png\" style=\"float:right\" width=\"33%\" />Read the following article explaining how to calculate Levenshtein distance: \n",
    "\n",
    "https://medium.com/@ethannam/understanding-the-levenshtein-distance-equation-for-beginners-c4285a5604f0\n",
    "\n",
    "\n",
    " #### Steps to manually calculate Levenshtein distance: \n",
    "\n",
    "* Write the two strings you want to compare horizontally across the top and left side of a grid, leaving an empty cell at the top-left corner of the grid.\n",
    "* Label each row of the grid with a character from the first string, starting from the second row. Label each column of the grid with a character from the second string, starting from the second column.\n",
    "* Initialize the first row of the grid with the index values starting from 0 to the length of the second string. Initialize the first column of the grid with the index values starting from 0 to the length of the first string.\n",
    "* Starting from the second row and second column of the grid, fill in each cell with the minimum of the following three values:\n",
    "  * The value in the cell to the left of the current cell, plus 1 (representing the cost of deleting a character from the first string).\n",
    "  * The value in the cell above the current cell, plus 1 (representing the cost of inserting a character into the first string).\n",
    "  * The value in the cell diagonally above and to the left of the current cell, plus 1 if the characters in the corresponding positions of the two strings are different, or 0 if they are the same (representing the cost of replacing a character in the first string with a character from the second string).\n",
    "* Continue filling in the cells of the grid in this way until you reach the bottom-right corner of the grid.\n",
    "* The value in the bottom-right corner of the grid represents the Levenshtein distance between the two strings.\n",
    "* To get the specific sequence of operations that transform one string into the other, you can trace a path from the bottom-right corner of the grid back to the top-left corner, always moving to the cell with the smallest value among the neighboring cells. If the value in a neighboring cell is the same as the current cell minus 1, it means that the corresponding operation was performed to get from the previous cell to the current cell (i.e., deletion, insertion, or replacement). Keep track of the sequence of operations as you trace the path back to the top-left corner."
   ]
  },
  {
   "cell_type": "markdown",
   "metadata": {},
   "source": [
    "### Task 3\n",
    "\n",
    "As a group, calculate the Levenshtein distance between ***one*** of the following pairs of words:\n",
    "    \n",
    "```ATOMIC and TOMATO```\n",
    "\n",
    "```NUCLEUS and NUCLEATE```\n",
    "\n",
    "```PYROLYSIS and MYOGLOBIN```\n",
    "\n",
    "```POLYESTER and DISASTER```\n",
    "\n",
    "Use the tool at https://phiresky.github.io/levenshtein-demo/ to check your answer.\n",
    "    \n"
   ]
  },
  {
   "cell_type": "code",
   "execution_count": null,
   "metadata": {},
   "outputs": [],
   "source": []
  },
  {
   "cell_type": "markdown",
   "metadata": {},
   "source": [
    "# Calculating Levenshtein distance with Python code\n",
    "\n",
    "To calculate the Levenshtein distance, we need to write a Python function that will perform the same three steps that we performed when we calculated the Levenshtein distance manually. There are:\n",
    "\n",
    "- Form an empty matrix (grid) of size m x n, where m is the length of word 1 and n is the length of word 2.\n",
    "- Populate the top and left rows. \n",
    "  - In the Levenshtein distance algorithm, the first row of the distance matrix represents the cost of transforming an empty string (i.e., a string of length 0) into a substring of the second string. The values in the first row of the matrix are initialized to the corresponding index values, starting from 0, because the cost of transforming an empty string into a non-empty substring is equal to the length of the substring. For example, to transform an empty string into the substring \"abc\", we would need to perform 3 insertions (one for each character of the substring), so the cost would be 3.\n",
    "  - In the Levenshtein algorithm, the first column of the matrix serves a similar purpose, but it represents the cost of transforming a substring of the first string into an empty string. The values in the first column of the matrix are also initialized to the corresponding index values, because the cost of transforming a non-empty substring into an empty string is equal to the length of the substring.\n",
    "  - By initializing the first row and first column of the distance matrix, we can determine the minimum cost of transforming any substring of the first string into any substring of the second string, which is a crucial step in computing the Levenshtein distance between the two strings.\n",
    "\n",
    "\n",
    "Here's an example Python function that calculates the Levenshtein distance between two strings:"
   ]
  },
  {
   "cell_type": "code",
   "execution_count": 18,
   "metadata": {},
   "outputs": [
    {
     "data": {
      "text/plain": [
       "5"
      ]
     },
     "execution_count": 18,
     "metadata": {},
     "output_type": "execute_result"
    }
   ],
   "source": [
    "def levenshtein_distance(s1, s2):\n",
    "    #Get the lengths of the two strings, assign to m and n\n",
    "    m, n = len(s1), len(s2)\n",
    "    # Initialize the distance matrix\n",
    "    d = []\n",
    "    for i in range(m + 1):\n",
    "        d.append([0] * (n + 1))\n",
    "    # Fill in the top and left rows\n",
    "    for i in range(m + 1):\n",
    "        d[i][0] = i\n",
    "    for j in range(n + 1):\n",
    "        d[0][j] = j\n",
    "  \n",
    "    # Fill in the matrix\n",
    "    for i in range(0, m): #iterate over rows\n",
    "        for j in range(0, n): #iterate over columns\n",
    "            if s1[i] == s2[j]: #if the character in string 1 is the same as that in string 2.\n",
    "                d[i+1][j+1] = d[i][j]#copy the number from the cell diagonally up to the left\n",
    "            else:\n",
    "                d[i+1][j+1] = 1 + min(d[i][j+1], d[i+1][j], d[i][j])\n",
    "    # Return the bottom-right cell of the matrix\n",
    "    return d[m][n]\n",
    "\n",
    "levenshtein_distance(\"octopus\", \"octagonal\")"
   ]
  },
  {
   "cell_type": "markdown",
   "metadata": {},
   "source": [
    "# Levenshtein Function explanation\n",
    "\n",
    "The function above can be split into separate parts that perform the same steps as when we manually calculated the Levenshtein distance:\n",
    "\n",
    "### Get the lengths of the two strings"
   ]
  },
  {
   "cell_type": "code",
   "execution_count": 2,
   "metadata": {},
   "outputs": [
    {
     "name": "stdout",
     "output_type": "stream",
     "text": [
      "6 7\n"
     ]
    }
   ],
   "source": [
    "#set strings\n",
    "s1=\"POTATO\"\n",
    "s2=\"OCTOPUS\"\n",
    "\n",
    "#get lengths of strings\n",
    "m, n = len(s1), len(s2)\n",
    "print(m,n)"
   ]
  },
  {
   "cell_type": "markdown",
   "metadata": {},
   "source": [
    "### Make a matrix- this is an array of numbers that is m+1 high and n+1 wide"
   ]
  },
  {
   "cell_type": "code",
   "execution_count": 3,
   "metadata": {},
   "outputs": [
    {
     "data": {
      "text/plain": [
       "[[0, 0, 0, 0, 0, 0, 0, 0],\n",
       " [0, 0, 0, 0, 0, 0, 0, 0],\n",
       " [0, 0, 0, 0, 0, 0, 0, 0],\n",
       " [0, 0, 0, 0, 0, 0, 0, 0],\n",
       " [0, 0, 0, 0, 0, 0, 0, 0],\n",
       " [0, 0, 0, 0, 0, 0, 0, 0],\n",
       " [0, 0, 0, 0, 0, 0, 0, 0]]"
      ]
     },
     "execution_count": 3,
     "metadata": {},
     "output_type": "execute_result"
    }
   ],
   "source": [
    "d = []\n",
    "for i in range(m + 1): #create m+1 rows\n",
    "    d.append([0] * (n + 1)) #into each row, put a list that has n+1 zeros (columns)\n",
    "d #print d"
   ]
  },
  {
   "cell_type": "markdown",
   "metadata": {},
   "source": [
    "# Populate the left and top rows"
   ]
  },
  {
   "cell_type": "code",
   "execution_count": 4,
   "metadata": {},
   "outputs": [
    {
     "data": {
      "text/plain": [
       "[[0, 1, 2, 3, 4, 5, 6, 7],\n",
       " [1, 0, 0, 0, 0, 0, 0, 0],\n",
       " [2, 0, 0, 0, 0, 0, 0, 0],\n",
       " [3, 0, 0, 0, 0, 0, 0, 0],\n",
       " [4, 0, 0, 0, 0, 0, 0, 0],\n",
       " [5, 0, 0, 0, 0, 0, 0, 0],\n",
       " [6, 0, 0, 0, 0, 0, 0, 0]]"
      ]
     },
     "execution_count": 4,
     "metadata": {},
     "output_type": "execute_result"
    }
   ],
   "source": [
    "# Fill in the top and left rows\n",
    "for i in range(m + 1):\n",
    "    d[i][0] = i\n",
    "for j in range(n + 1):\n",
    "    d[0][j] = j\n",
    "d"
   ]
  },
  {
   "cell_type": "code",
   "execution_count": 5,
   "metadata": {},
   "outputs": [
    {
     "data": {
      "text/plain": [
       "3"
      ]
     },
     "execution_count": 5,
     "metadata": {},
     "output_type": "execute_result"
    }
   ],
   "source": [
    "#Accessing indices\n",
    "\n",
    "d[0][3]"
   ]
  },
  {
   "cell_type": "markdown",
   "metadata": {},
   "source": [
    "# Fill in the matrix\n",
    "If the characters in the two strings are identical, copy the diagonal, otherwise add 1 to the minimum value in the cells to the left, upper left or top."
   ]
  },
  {
   "cell_type": "code",
   "execution_count": 23,
   "metadata": {},
   "outputs": [
    {
     "data": {
      "text/plain": [
       "[[0, 0, 0, 0, 0, 0, 0, 0],\n",
       " [0, 1, 1, 1, 1, 0, 1, 1],\n",
       " [0, 0, 1, 2, 1, 1, 1, 2],\n",
       " [0, 1, 1, 1, 2, 2, 2, 2],\n",
       " [0, 1, 2, 2, 2, 3, 3, 3],\n",
       " [0, 1, 2, 2, 3, 3, 4, 4],\n",
       " [0, 0, 1, 2, 2, 3, 4, 5]]"
      ]
     },
     "execution_count": 23,
     "metadata": {},
     "output_type": "execute_result"
    }
   ],
   "source": [
    "for i in range(0, m): #iterate over rows\n",
    "    for j in range(0, n): #iterate over columns\n",
    "        if s1[i] == s2[j]: #if the character in string 1 is the same as that in string 2.\n",
    "            d[i+1][j+1] = d[i][j]#copy the number from the cell diagonally up to the left\n",
    "        else:\n",
    "            d[i+1][j+1] = 1 + min(d[i][j+1], d[i+1][j], d[i][j])\n",
    "d #print d"
   ]
  },
  {
   "cell_type": "markdown",
   "metadata": {},
   "source": [
    "# Calling the function\n",
    "\n",
    "To compare DNA sequences using Levenshtein distance, we can simply call this function with the two sequences as input. The resulting distance value gives a measure of the difference between the two sequences, taking into account substitutions, insertions, and deletions. However, because Levenshtein distance is computationally more expensive than Hamming distance, it may be less suitable for comparing very long sequences or large numbers of sequences."
   ]
  },
  {
   "cell_type": "code",
   "execution_count": 24,
   "metadata": {},
   "outputs": [
    {
     "data": {
      "text/plain": [
       "397"
      ]
     },
     "execution_count": 24,
     "metadata": {},
     "output_type": "execute_result"
    }
   ],
   "source": [
    "seq1='GTTTGATCCTGGCTCAGATTGAACGCTGGCGGCAGGCCTAACACATGCAAGTCGAGCGGAAACGACACTAACAATCCTTCGGGTGCGTTAATGGGCGTCGAGCGGCGGACGGGTGAGTAATGCCTAGGAAATTGCCTTGATGTGGgggATAACCATTGGAAACGATGGCTAATACCGCATAATGCCTACGGGCCAAAGAGGgggACCTTCGGGCCTCTCGCGTCAAGATATGCCTAGGTGGGATTAGCTAGTTGGTGAGGTAATGGCTCACCAAGGCGACGATCCCTAGCTGGTCTGAGAGGATGATCAGCCACACTGGAACTGAGACACGGTCCAGACTCCTACGGGAGGCAGCAGTGGGGAATATTGCACAATGGGCGAAAGCCTGATGCAGCCATGCCGCGTGTATGAAGAAGGCCTTCGGGTTGTAAAGTACTTTCAGTTGTGAGGAAGGGTgtgtAGTTAATAGCTGCAMATCTTGACGTTAGCAACAGAAGAAGCACCGGCTAACTCCGTGCCAGCAGCCGCGGTAATACGGAGGGTGCGAGCGTTAATCGGAATTACTGGGCGTAAAGCGCATGCAGGTGGTTCATTAAGTCAGATGTGAAAGCCCGGGGCTCAACCTCGGAACTGCATTTGAAACTGGTGAACTAGAGTGCTGTAGAGGggggTAGAATTTCAGGTGTAGCGGTGAAATGCGTAGAGATCTGAAGGAATACCAGTGGCGAAGGCGGCCcccTGGACAGACACTGACACTCAGATGCGAAAGCGTGGGGAGCAAACAGGATTAGATACCCTGGTAGTCCACGCCGTAAACGATGTCTACTTGGAGGTTGTGGCCTTGAGCCGTGGCTTTCGGAGCTAACGCGTTAAGTAGACCGCCTGGGGAGTACGGTCGCAAGATTAAAACTCAAATGAATTGACGGgggCCCGCACAAGCGGTGGAGCATGTGGTTTAATTCGATGCAACGCGAAGAACCTTACCTACTCTTGACATCCAGAGAAGCCAGCGGAGACGCAGGTGTGCCTTCGGGAGCTCTGAGACAGGTGCTGCATGGCTGTCGTCAGCTCGTGTTGTGAAATGTTGGGTTAAGTCCCGCAACGAGCGCAACCCTTATCCTTGTTTGCCAGCGAGTAATGTCGGGAACTCCAGGGAGACTGCCGGTGATAAACCGGAGGAAGGTGGGGACGACGTCAAGTCATCATGGCCCTTACGAGTAGGGCTACacacGTGCTACAATGGCGCATACAGAGGGCAGCAAGCTAGCGATAGTGAGCGAATCCCAAaaaGTGCGTCGTAGTCCGGATTGGAGTCTGCAACTCGACTCCATGAAGTCGGAATCGCTAGTAATCGTGAATCAGAATGTCACGGTGAATACGTTCCCGGGCCTTGTACacacCGCCCGTCACACCATGGGAGTGGGCTGCAAAAGAAGTGGGTAGTTTAACCTTTCGGGGAGGACGCTCACCACTTTGTGGTTCATGACTGGGGTGAAGTCGTAACAAGGTAGCCCTAGGGGAACCTGCGGCTGGATC'\n",
    "seq2='TAGAGTTTGATCCTGGCTCAGGACGAACGCTGGCGGCGTGCTTAACACATGCAAGTCGAACGGAAAGGCCCTTCGGGGTACTCGAGTGGCGAACGGGTGAGTAACACGTGGGTGATCTGCCCTGCACTTTGGGATAAGCCTGGGAAACTGGGTCTAATACCGAATAGGACTACGCTCTTCATGGGGTGTGGTGGAAAGCTTTTGCGGTGTGGGATGGGCCCGCGGCCTATCAGCTTGTTGGTGGGGTAATGGCCTACCAAGGCGACGACGGGTAGCCGGCCTGAGAGGGTGACCGGCCACACTGGGACTGAGATACGGCCCAGACTCCTACGGGAGGCAGCAGTGGGGAATATTGCACAATGGGCGCAAGCCTGATGCAGCGACGCCGCGTGAGGGATGACGGCCTTCGGGTTGTAAACCTCTTTCACCAGGGACGAAGCGCAAGTGACGGTACCTGGAGAAGAAGCACCGGCCAACTACGTGCCAGCAGCCGCGGTAATACGTAGGGTGCGAGCGTTGTCCGGAATTACTGGGCGTAAAGAGCTCGTAGGTGGTTTGTCGCGTTGTTCGTGAAAACTCACAACTCAATTGTGGGCGTGCGGGCGATACGGGCAGACTAGAGTACTGCAGGGGAGACTGGAATTCCTGGTGTAGCGGTGGAATGCGCAGATATCAGGAGGAACACCGGTGGCGAAGGCGGGTCTCTGGGCAGTAACTGACGCTGAGGAGCGAAAGCGTGGGGAGCGAACAGGATTAGATACCCTGGTAGTCCACGCCGTAAACGGTGGGTACTAGGTGTGGGTTCCTTCCTTGGGATCCGTGCCGTAGCTAACGCATTAAGTACCCCGCCTGGGGAGTACGGCCGCAAGGCTAAAACTCAAAGGAATTGACGGgggCCCGCACAAGCGGCGGAGCATGTGGATTAATTCGATGCAACGCGAAGAACCTTACCTGGGTTTGACATGCACAGGACGCTGGTAGAGATATCAGTTCCCTTGTGGCCTGtgtgCAGGTGGTGCATGGCTGTCGTCAGCTCGTGTCGTGAGATGTTGGGTTAAGTCCCGCAACGAGCGCAACCCTTGTCCTATGTTGCCAGCGGGTTATGCCGGGGACTCGTAGGAGACTGCCGGGGTCAACTCGGAGGAAGGTGGGGATGACGTCAAGTCATCATGCCCCTTATGTCCAGGGCTTCAcacaTGCTACAATGGCCGGTACAAAGGGCTGCGATGCCGTGAGGTGGAGCGAATCCTTTCAAAGCCGGTCTCAGTTCGGATCGGGGTCTGCAACTCGACCCCGTGAAGTCGGAGTCGCTAGTAATCGCAGATCAGCAACGCTGCGGTGAATACGTTCCCGGGCCTTGTACacacCGCCCGTCACGTCATGAAAGTCGGTAACACCCGAAGCCGGTGGCCTAACCCTTGTGGAGGGAGCCGTCGAAGGTGGGATCGGCGATTGGGACGAAGTCGTAACAAGGTAGCCGTA'\n",
    "levenshtein_distance(seq1, seq2)"
   ]
  },
  {
   "cell_type": "markdown",
   "metadata": {},
   "source": [
    "# Timing code execution\n",
    "The code cell *seemed* to take about 1 second to run. That may seem fast (compared with how long the task would take a human), but we want to compare our 16S sequence with 15000 other sequences. 1 second per comparison would take 15000 seconds = ~4 hours. \n",
    "\n",
    "In Jupyter notebooks, we can use the %%time 'cell magic' to check how long a code cell takes to execute.\n",
    "\n"
   ]
  },
  {
   "cell_type": "code",
   "execution_count": 26,
   "metadata": {},
   "outputs": [
    {
     "name": "stdout",
     "output_type": "stream",
     "text": [
      "CPU times: user 1.65 s, sys: 63.6 ms, total: 1.71 s\n",
      "Wall time: 1.8 s\n"
     ]
    },
    {
     "data": {
      "text/plain": [
       "397"
      ]
     },
     "execution_count": 26,
     "metadata": {},
     "output_type": "execute_result"
    }
   ],
   "source": [
    "%%time\n",
    "seq1='GTTTGATCCTGGCTCAGATTGAACGCTGGCGGCAGGCCTAACACATGCAAGTCGAGCGGAAACGACACTAACAATCCTTCGGGTGCGTTAATGGGCGTCGAGCGGCGGACGGGTGAGTAATGCCTAGGAAATTGCCTTGATGTGGgggATAACCATTGGAAACGATGGCTAATACCGCATAATGCCTACGGGCCAAAGAGGgggACCTTCGGGCCTCTCGCGTCAAGATATGCCTAGGTGGGATTAGCTAGTTGGTGAGGTAATGGCTCACCAAGGCGACGATCCCTAGCTGGTCTGAGAGGATGATCAGCCACACTGGAACTGAGACACGGTCCAGACTCCTACGGGAGGCAGCAGTGGGGAATATTGCACAATGGGCGAAAGCCTGATGCAGCCATGCCGCGTGTATGAAGAAGGCCTTCGGGTTGTAAAGTACTTTCAGTTGTGAGGAAGGGTgtgtAGTTAATAGCTGCAMATCTTGACGTTAGCAACAGAAGAAGCACCGGCTAACTCCGTGCCAGCAGCCGCGGTAATACGGAGGGTGCGAGCGTTAATCGGAATTACTGGGCGTAAAGCGCATGCAGGTGGTTCATTAAGTCAGATGTGAAAGCCCGGGGCTCAACCTCGGAACTGCATTTGAAACTGGTGAACTAGAGTGCTGTAGAGGggggTAGAATTTCAGGTGTAGCGGTGAAATGCGTAGAGATCTGAAGGAATACCAGTGGCGAAGGCGGCCcccTGGACAGACACTGACACTCAGATGCGAAAGCGTGGGGAGCAAACAGGATTAGATACCCTGGTAGTCCACGCCGTAAACGATGTCTACTTGGAGGTTGTGGCCTTGAGCCGTGGCTTTCGGAGCTAACGCGTTAAGTAGACCGCCTGGGGAGTACGGTCGCAAGATTAAAACTCAAATGAATTGACGGgggCCCGCACAAGCGGTGGAGCATGTGGTTTAATTCGATGCAACGCGAAGAACCTTACCTACTCTTGACATCCAGAGAAGCCAGCGGAGACGCAGGTGTGCCTTCGGGAGCTCTGAGACAGGTGCTGCATGGCTGTCGTCAGCTCGTGTTGTGAAATGTTGGGTTAAGTCCCGCAACGAGCGCAACCCTTATCCTTGTTTGCCAGCGAGTAATGTCGGGAACTCCAGGGAGACTGCCGGTGATAAACCGGAGGAAGGTGGGGACGACGTCAAGTCATCATGGCCCTTACGAGTAGGGCTACacacGTGCTACAATGGCGCATACAGAGGGCAGCAAGCTAGCGATAGTGAGCGAATCCCAAaaaGTGCGTCGTAGTCCGGATTGGAGTCTGCAACTCGACTCCATGAAGTCGGAATCGCTAGTAATCGTGAATCAGAATGTCACGGTGAATACGTTCCCGGGCCTTGTACacacCGCCCGTCACACCATGGGAGTGGGCTGCAAAAGAAGTGGGTAGTTTAACCTTTCGGGGAGGACGCTCACCACTTTGTGGTTCATGACTGGGGTGAAGTCGTAACAAGGTAGCCCTAGGGGAACCTGCGGCTGGATC'\n",
    "seq2='TAGAGTTTGATCCTGGCTCAGGACGAACGCTGGCGGCGTGCTTAACACATGCAAGTCGAACGGAAAGGCCCTTCGGGGTACTCGAGTGGCGAACGGGTGAGTAACACGTGGGTGATCTGCCCTGCACTTTGGGATAAGCCTGGGAAACTGGGTCTAATACCGAATAGGACTACGCTCTTCATGGGGTGTGGTGGAAAGCTTTTGCGGTGTGGGATGGGCCCGCGGCCTATCAGCTTGTTGGTGGGGTAATGGCCTACCAAGGCGACGACGGGTAGCCGGCCTGAGAGGGTGACCGGCCACACTGGGACTGAGATACGGCCCAGACTCCTACGGGAGGCAGCAGTGGGGAATATTGCACAATGGGCGCAAGCCTGATGCAGCGACGCCGCGTGAGGGATGACGGCCTTCGGGTTGTAAACCTCTTTCACCAGGGACGAAGCGCAAGTGACGGTACCTGGAGAAGAAGCACCGGCCAACTACGTGCCAGCAGCCGCGGTAATACGTAGGGTGCGAGCGTTGTCCGGAATTACTGGGCGTAAAGAGCTCGTAGGTGGTTTGTCGCGTTGTTCGTGAAAACTCACAACTCAATTGTGGGCGTGCGGGCGATACGGGCAGACTAGAGTACTGCAGGGGAGACTGGAATTCCTGGTGTAGCGGTGGAATGCGCAGATATCAGGAGGAACACCGGTGGCGAAGGCGGGTCTCTGGGCAGTAACTGACGCTGAGGAGCGAAAGCGTGGGGAGCGAACAGGATTAGATACCCTGGTAGTCCACGCCGTAAACGGTGGGTACTAGGTGTGGGTTCCTTCCTTGGGATCCGTGCCGTAGCTAACGCATTAAGTACCCCGCCTGGGGAGTACGGCCGCAAGGCTAAAACTCAAAGGAATTGACGGgggCCCGCACAAGCGGCGGAGCATGTGGATTAATTCGATGCAACGCGAAGAACCTTACCTGGGTTTGACATGCACAGGACGCTGGTAGAGATATCAGTTCCCTTGTGGCCTGtgtgCAGGTGGTGCATGGCTGTCGTCAGCTCGTGTCGTGAGATGTTGGGTTAAGTCCCGCAACGAGCGCAACCCTTGTCCTATGTTGCCAGCGGGTTATGCCGGGGACTCGTAGGAGACTGCCGGGGTCAACTCGGAGGAAGGTGGGGATGACGTCAAGTCATCATGCCCCTTATGTCCAGGGCTTCAcacaTGCTACAATGGCCGGTACAAAGGGCTGCGATGCCGTGAGGTGGAGCGAATCCTTTCAAAGCCGGTCTCAGTTCGGATCGGGGTCTGCAACTCGACCCCGTGAAGTCGGAGTCGCTAGTAATCGCAGATCAGCAACGCTGCGGTGAATACGTTCCCGGGCCTTGTACacacCGCCCGTCACGTCATGAAAGTCGGTAACACCCGAAGCCGGTGGCCTAACCCTTGTGGAGGGAGCCGTCGAAGGTGGGATCGGCGATTGGGACGAAGTCGTAACAAGGTAGCCGTA'\n",
    "levenshtein_distance(seq1, seq2)"
   ]
  },
  {
   "cell_type": "markdown",
   "metadata": {},
   "source": [
    "# Improving the speed of our code\n",
    "\n",
    "There are optimisations that we could make to the function above to improve its speed, however none of these improvements would deliver the magnitude of speed up that we need. Python is a flexible and easy language to learn and to develop code, however because is an interpreted language, which means that the code is executed line-by-line by the interpreter, it is slower than other languages, such a C. \n",
    "\n",
    "Compiled languages like C are generally faster because they are translated into machine code, which can be executed directly by the computer's CPU. This means that the program is pre-compiled and optimized for the computer, resulting in faster execution times. \n",
    "\n",
    "We can take advantage of the speed of a compiled language by importing a Levenshtein module that has been written in C language.\n",
    "\n",
    "First we need to install the module (it isn't available on Noteable by default):"
   ]
  },
  {
   "cell_type": "code",
   "execution_count": 28,
   "metadata": {},
   "outputs": [
    {
     "name": "stdout",
     "output_type": "stream",
     "text": [
      "Collecting levenshtein\n",
      "  Downloading Levenshtein-0.20.9-cp38-cp38-macosx_10_9_x86_64.whl (130 kB)\n",
      "\u001b[2K     \u001b[90m━━━━━━━━━━━━━━━━━━━━━━━━━━━━━━━━━━━━━━━\u001b[0m \u001b[32m131.0/131.0 kB\u001b[0m \u001b[31m1.1 MB/s\u001b[0m eta \u001b[36m0:00:00\u001b[0ma \u001b[36m0:00:01\u001b[0m\n",
      "\u001b[?25hCollecting rapidfuzz<3.0.0,>=2.3.0\n",
      "  Downloading rapidfuzz-2.13.7-cp38-cp38-macosx_10_9_x86_64.whl (1.8 MB)\n",
      "\u001b[2K     \u001b[90m━━━━━━━━━━━━━━━━━━━━━━━━━━━━━━━━━━━━━━━━\u001b[0m \u001b[32m1.8/1.8 MB\u001b[0m \u001b[31m288.1 kB/s\u001b[0m eta \u001b[36m0:00:00\u001b[0m00:01\u001b[0m00:01\u001b[0m\n",
      "\u001b[?25hInstalling collected packages: rapidfuzz, levenshtein\n",
      "Successfully installed levenshtein-0.20.9 rapidfuzz-2.13.7\n"
     ]
    }
   ],
   "source": [
    "!pip install levenshtein\n",
    "#pip is a package manager:this command installs the levenshtein package on our Noteable instance."
   ]
  },
  {
   "cell_type": "markdown",
   "metadata": {},
   "source": [
    "Now we can import the Levenshtein module. We only want to import the function named distance:"
   ]
  },
  {
   "cell_type": "code",
   "execution_count": 30,
   "metadata": {},
   "outputs": [
    {
     "data": {
      "text/plain": [
       "4"
      ]
     },
     "execution_count": 30,
     "metadata": {},
     "output_type": "execute_result"
    }
   ],
   "source": [
    "from Levenshtein import distance\n",
    "\n",
    "distance (\"ATCGTAGCT\", \"ATCGATGCGA\")\n"
   ]
  },
  {
   "cell_type": "markdown",
   "metadata": {},
   "source": [
    "# Task 4\n",
    "\n",
    "Use the %%time magic to run the `distance()` function on the seq1 and seq2. How does this time compare with running the Python `levenshtein_distance()` function?\n"
   ]
  },
  {
   "cell_type": "code",
   "execution_count": null,
   "metadata": {},
   "outputs": [],
   "source": []
  },
  {
   "cell_type": "markdown",
   "metadata": {},
   "source": [
    "# One more piece of the puzzle: .apply()\n",
    "\n",
    "Your 16S data is stored in a pandas dataframe, and we would like to continue to use that dataframe to store the distances between sequence.\n",
    "\n",
    "As a result, we need to know how to use apply functions to values stored in a dataframe. The method to do this is called `.apply()`.\n",
    "\n",
    "The `.apply()` method allows you to apply a function to every row or column of a DataFrame, and can be used for a variety of purposes such as cleaning, aggregating, or transforming data. \n",
    "\n",
    "### Using .apply() to apply the function `len()` to a set of sequences in a dataframe\n",
    "\n",
    "First, we'll start by importing the necessary libraries:"
   ]
  },
  {
   "cell_type": "code",
   "execution_count": 6,
   "metadata": {},
   "outputs": [],
   "source": [
    "import pandas as pd"
   ]
  },
  {
   "cell_type": "markdown",
   "metadata": {},
   "source": [
    "Next, we'll load a sample DataFrame to work with. Load the contents of the file '16S_reference_mini.csv' into a Pandas dataframe called `mini` and print the contents."
   ]
  },
  {
   "cell_type": "code",
   "execution_count": 7,
   "metadata": {},
   "outputs": [
    {
     "data": {
      "text/html": [
       "<div>\n",
       "<style scoped>\n",
       "    .dataframe tbody tr th:only-of-type {\n",
       "        vertical-align: middle;\n",
       "    }\n",
       "\n",
       "    .dataframe tbody tr th {\n",
       "        vertical-align: top;\n",
       "    }\n",
       "\n",
       "    .dataframe thead th {\n",
       "        text-align: right;\n",
       "    }\n",
       "</style>\n",
       "<table border=\"1\" class=\"dataframe\">\n",
       "  <thead>\n",
       "    <tr style=\"text-align: right;\">\n",
       "      <th></th>\n",
       "      <th>sequence</th>\n",
       "      <th>species_name</th>\n",
       "    </tr>\n",
       "  </thead>\n",
       "  <tbody>\n",
       "    <tr>\n",
       "      <th>0</th>\n",
       "      <td>GCCTAACACATGCAAGTCGAGCGATGAAGCTTCCTTCGGGAAGTGG...</td>\n",
       "      <td>Clostridium_aestuarii</td>\n",
       "    </tr>\n",
       "    <tr>\n",
       "      <th>1</th>\n",
       "      <td>GCCTAACACATGCAAGTCGAGCGCACCTTTCGGGGTGAGCGGCGGA...</td>\n",
       "      <td>Palleronia_marisminoris</td>\n",
       "    </tr>\n",
       "    <tr>\n",
       "      <th>2</th>\n",
       "      <td>GATGAACGCTAGCGGGAGGCCTAACACATGCAAGCCGAGCGGTATT...</td>\n",
       "      <td>Cloacibacterium_haliotis</td>\n",
       "    </tr>\n",
       "    <tr>\n",
       "      <th>3</th>\n",
       "      <td>TCATGGCTCAGATTGAACGCTGGCGGCAGGCCTAACACATGCAAGT...</td>\n",
       "      <td>Photorhabdus_luminescens</td>\n",
       "    </tr>\n",
       "    <tr>\n",
       "      <th>4</th>\n",
       "      <td>AGTTTGATCCTGGCTCAGGATGAACGCTGGCGGCGTGCTTAACACA...</td>\n",
       "      <td>Microbacterium_laevaniformans</td>\n",
       "    </tr>\n",
       "    <tr>\n",
       "      <th>5</th>\n",
       "      <td>TAGAGTTTGATCATGGCTCAGGACGAACGCTGGCGGCGTGCCTAAT...</td>\n",
       "      <td>Alicyclobacillus_sendaiensis</td>\n",
       "    </tr>\n",
       "    <tr>\n",
       "      <th>6</th>\n",
       "      <td>TGGAGAGTTTGATCCTGGCTCAGGATGAACGCTGGCGGCATGCCTA...</td>\n",
       "      <td>Spiroplasma_litorale</td>\n",
       "    </tr>\n",
       "    <tr>\n",
       "      <th>7</th>\n",
       "      <td>GAGTTTGATCCTGGCTCAGGACGAACGCTGGCGGCGTGCTTAACAC...</td>\n",
       "      <td>Friedmanniella_spumicola</td>\n",
       "    </tr>\n",
       "    <tr>\n",
       "      <th>8</th>\n",
       "      <td>TGGCTCAGGGTGAACGCTGGCGGCGTGCTTGACACATGCAAGTCGA...</td>\n",
       "      <td>Mesotoga_sp.</td>\n",
       "    </tr>\n",
       "    <tr>\n",
       "      <th>9</th>\n",
       "      <td>CTCAGGACGAACGCTGGCGGCGTGCTTAACACATGCAAGTCGAGCG...</td>\n",
       "      <td>Rhodococcus_globerulus</td>\n",
       "    </tr>\n",
       "  </tbody>\n",
       "</table>\n",
       "</div>"
      ],
      "text/plain": [
       "                                            sequence  \\\n",
       "0  GCCTAACACATGCAAGTCGAGCGATGAAGCTTCCTTCGGGAAGTGG...   \n",
       "1  GCCTAACACATGCAAGTCGAGCGCACCTTTCGGGGTGAGCGGCGGA...   \n",
       "2  GATGAACGCTAGCGGGAGGCCTAACACATGCAAGCCGAGCGGTATT...   \n",
       "3  TCATGGCTCAGATTGAACGCTGGCGGCAGGCCTAACACATGCAAGT...   \n",
       "4  AGTTTGATCCTGGCTCAGGATGAACGCTGGCGGCGTGCTTAACACA...   \n",
       "5  TAGAGTTTGATCATGGCTCAGGACGAACGCTGGCGGCGTGCCTAAT...   \n",
       "6  TGGAGAGTTTGATCCTGGCTCAGGATGAACGCTGGCGGCATGCCTA...   \n",
       "7  GAGTTTGATCCTGGCTCAGGACGAACGCTGGCGGCGTGCTTAACAC...   \n",
       "8  TGGCTCAGGGTGAACGCTGGCGGCGTGCTTGACACATGCAAGTCGA...   \n",
       "9  CTCAGGACGAACGCTGGCGGCGTGCTTAACACATGCAAGTCGAGCG...   \n",
       "\n",
       "                    species_name  \n",
       "0          Clostridium_aestuarii  \n",
       "1        Palleronia_marisminoris  \n",
       "2       Cloacibacterium_haliotis  \n",
       "3       Photorhabdus_luminescens  \n",
       "4  Microbacterium_laevaniformans  \n",
       "5   Alicyclobacillus_sendaiensis  \n",
       "6           Spiroplasma_litorale  \n",
       "7       Friedmanniella_spumicola  \n",
       "8                   Mesotoga_sp.  \n",
       "9         Rhodococcus_globerulus  "
      ]
     },
     "execution_count": 7,
     "metadata": {},
     "output_type": "execute_result"
    }
   ],
   "source": [
    "mini = pd.read_csv('16S_reference_mini.csv')\n",
    "mini"
   ]
  },
  {
   "cell_type": "markdown",
   "metadata": {},
   "source": [
    "Next we'll use the `.apply()` function to apply the `len()` function to each string in the sequence column of the table. We'll make a new column 'sequence_length' to store this information."
   ]
  },
  {
   "cell_type": "code",
   "execution_count": 8,
   "metadata": {},
   "outputs": [
    {
     "data": {
      "text/html": [
       "<div>\n",
       "<style scoped>\n",
       "    .dataframe tbody tr th:only-of-type {\n",
       "        vertical-align: middle;\n",
       "    }\n",
       "\n",
       "    .dataframe tbody tr th {\n",
       "        vertical-align: top;\n",
       "    }\n",
       "\n",
       "    .dataframe thead th {\n",
       "        text-align: right;\n",
       "    }\n",
       "</style>\n",
       "<table border=\"1\" class=\"dataframe\">\n",
       "  <thead>\n",
       "    <tr style=\"text-align: right;\">\n",
       "      <th></th>\n",
       "      <th>sequence</th>\n",
       "      <th>species_name</th>\n",
       "      <th>sequence_length</th>\n",
       "    </tr>\n",
       "  </thead>\n",
       "  <tbody>\n",
       "    <tr>\n",
       "      <th>0</th>\n",
       "      <td>GCCTAACACATGCAAGTCGAGCGATGAAGCTTCCTTCGGGAAGTGG...</td>\n",
       "      <td>Clostridium_aestuarii</td>\n",
       "      <td>1390</td>\n",
       "    </tr>\n",
       "    <tr>\n",
       "      <th>1</th>\n",
       "      <td>GCCTAACACATGCAAGTCGAGCGCACCTTTCGGGGTGAGCGGCGGA...</td>\n",
       "      <td>Palleronia_marisminoris</td>\n",
       "      <td>1351</td>\n",
       "    </tr>\n",
       "    <tr>\n",
       "      <th>2</th>\n",
       "      <td>GATGAACGCTAGCGGGAGGCCTAACACATGCAAGCCGAGCGGTATT...</td>\n",
       "      <td>Cloacibacterium_haliotis</td>\n",
       "      <td>1438</td>\n",
       "    </tr>\n",
       "    <tr>\n",
       "      <th>3</th>\n",
       "      <td>TCATGGCTCAGATTGAACGCTGGCGGCAGGCCTAACACATGCAAGT...</td>\n",
       "      <td>Photorhabdus_luminescens</td>\n",
       "      <td>1467</td>\n",
       "    </tr>\n",
       "    <tr>\n",
       "      <th>4</th>\n",
       "      <td>AGTTTGATCCTGGCTCAGGATGAACGCTGGCGGCGTGCTTAACACA...</td>\n",
       "      <td>Microbacterium_laevaniformans</td>\n",
       "      <td>1378</td>\n",
       "    </tr>\n",
       "    <tr>\n",
       "      <th>5</th>\n",
       "      <td>TAGAGTTTGATCATGGCTCAGGACGAACGCTGGCGGCGTGCCTAAT...</td>\n",
       "      <td>Alicyclobacillus_sendaiensis</td>\n",
       "      <td>1523</td>\n",
       "    </tr>\n",
       "    <tr>\n",
       "      <th>6</th>\n",
       "      <td>TGGAGAGTTTGATCCTGGCTCAGGATGAACGCTGGCGGCATGCCTA...</td>\n",
       "      <td>Spiroplasma_litorale</td>\n",
       "      <td>1516</td>\n",
       "    </tr>\n",
       "    <tr>\n",
       "      <th>7</th>\n",
       "      <td>GAGTTTGATCCTGGCTCAGGACGAACGCTGGCGGCGTGCTTAACAC...</td>\n",
       "      <td>Friedmanniella_spumicola</td>\n",
       "      <td>1475</td>\n",
       "    </tr>\n",
       "    <tr>\n",
       "      <th>8</th>\n",
       "      <td>TGGCTCAGGGTGAACGCTGGCGGCGTGCTTGACACATGCAAGTCGA...</td>\n",
       "      <td>Mesotoga_sp.</td>\n",
       "      <td>1478</td>\n",
       "    </tr>\n",
       "    <tr>\n",
       "      <th>9</th>\n",
       "      <td>CTCAGGACGAACGCTGGCGGCGTGCTTAACACATGCAAGTCGAGCG...</td>\n",
       "      <td>Rhodococcus_globerulus</td>\n",
       "      <td>1473</td>\n",
       "    </tr>\n",
       "  </tbody>\n",
       "</table>\n",
       "</div>"
      ],
      "text/plain": [
       "                                            sequence  \\\n",
       "0  GCCTAACACATGCAAGTCGAGCGATGAAGCTTCCTTCGGGAAGTGG...   \n",
       "1  GCCTAACACATGCAAGTCGAGCGCACCTTTCGGGGTGAGCGGCGGA...   \n",
       "2  GATGAACGCTAGCGGGAGGCCTAACACATGCAAGCCGAGCGGTATT...   \n",
       "3  TCATGGCTCAGATTGAACGCTGGCGGCAGGCCTAACACATGCAAGT...   \n",
       "4  AGTTTGATCCTGGCTCAGGATGAACGCTGGCGGCGTGCTTAACACA...   \n",
       "5  TAGAGTTTGATCATGGCTCAGGACGAACGCTGGCGGCGTGCCTAAT...   \n",
       "6  TGGAGAGTTTGATCCTGGCTCAGGATGAACGCTGGCGGCATGCCTA...   \n",
       "7  GAGTTTGATCCTGGCTCAGGACGAACGCTGGCGGCGTGCTTAACAC...   \n",
       "8  TGGCTCAGGGTGAACGCTGGCGGCGTGCTTGACACATGCAAGTCGA...   \n",
       "9  CTCAGGACGAACGCTGGCGGCGTGCTTAACACATGCAAGTCGAGCG...   \n",
       "\n",
       "                    species_name  sequence_length  \n",
       "0          Clostridium_aestuarii             1390  \n",
       "1        Palleronia_marisminoris             1351  \n",
       "2       Cloacibacterium_haliotis             1438  \n",
       "3       Photorhabdus_luminescens             1467  \n",
       "4  Microbacterium_laevaniformans             1378  \n",
       "5   Alicyclobacillus_sendaiensis             1523  \n",
       "6           Spiroplasma_litorale             1516  \n",
       "7       Friedmanniella_spumicola             1475  \n",
       "8                   Mesotoga_sp.             1478  \n",
       "9         Rhodococcus_globerulus             1473  "
      ]
     },
     "execution_count": 8,
     "metadata": {},
     "output_type": "execute_result"
    }
   ],
   "source": [
    "mini['sequence_length']=mini['sequence'].apply(len)\n",
    "mini"
   ]
  },
  {
   "cell_type": "markdown",
   "metadata": {},
   "source": [
    "### How do I pass arguments when using a function in apply?\n",
    "\n",
    "Some functions, such as `distance`, take multiple arguments. `.apply()` allows us to specify these using `args`.\n",
    "\n",
    "In the code cell below, we make a dataframe containing three words (exam,sample and amplex) and we use `.apply()` to compare each string in the column 'word_column' with the string stored in the variable 'string_to_compare'.\n",
    "\n"
   ]
  },
  {
   "cell_type": "code",
   "execution_count": 9,
   "metadata": {},
   "outputs": [
    {
     "name": "stdout",
     "output_type": "stream",
     "text": [
      "  word_column  distance\n",
      "0        exam         3\n",
      "1      sample         2\n",
      "2      amplex         3\n"
     ]
    }
   ],
   "source": [
    "import pandas as pd\n",
    "from Levenshtein import distance\n",
    "\n",
    "# define the string to compare\n",
    "string_to_compare = 'example'\n",
    "\n",
    "# create a sample DataFrame\n",
    "data = {'word_column': ['exam', 'sample', 'amplex']}\n",
    "df = pd.DataFrame(data)\n",
    "\n",
    "# apply the function to each element in the DataFrame column using .apply()\n",
    "df['distance'] = df['word_column'].apply(distance, args=(string_to_compare,))\n",
    "\n",
    "# print the updated DataFrame\n",
    "print(df)\n"
   ]
  },
  {
   "cell_type": "markdown",
   "metadata": {},
   "source": [
    "### Task 5\n",
    "\n",
    "Based on the example above, write Python code to calculate which species name(s) in your dataframe 'mini' are most similar (lowest Levenshtein distance) to 'Mycobacterium_tuberculosis'."
   ]
  },
  {
   "cell_type": "code",
   "execution_count": 1,
   "metadata": {},
   "outputs": [],
   "source": [
    "string_to_compare='Mycobacterium_tuberculosis'\n"
   ]
  },
  {
   "cell_type": "markdown",
   "metadata": {},
   "source": [
    "##### Well done!\n",
    "\n",
    "**You've completed this week's workshop.** You now know how to calculate Levenshtein distance in Python very efficiently, and to apply this function to a Pandas dataframe.\n",
    "\n",
    "Next week, you will extract your group's 16S sequence from a Pandas dataframe. Using that sequence as your 'string_to_compare' with the methods you've learned in this notebook, you'll search a dataframe containing ~15000 known 16S rDNA sequences to find the closest match. "
   ]
  },
  {
   "cell_type": "code",
   "execution_count": null,
   "metadata": {},
   "outputs": [],
   "source": []
  }
 ],
 "metadata": {
  "kernelspec": {
   "display_name": "Python 3 (ipykernel)",
   "language": "python",
   "name": "python3"
  },
  "language_info": {
   "codemirror_mode": {
    "name": "ipython",
    "version": 3
   },
   "file_extension": ".py",
   "mimetype": "text/x-python",
   "name": "python",
   "nbconvert_exporter": "python",
   "pygments_lexer": "ipython3",
   "version": "3.9.12"
  }
 },
 "nbformat": 4,
 "nbformat_minor": 2
}
