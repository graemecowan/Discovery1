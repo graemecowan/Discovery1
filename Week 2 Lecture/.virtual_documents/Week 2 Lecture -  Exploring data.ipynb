

















# importing modules

import pandas as pd
import matplotlib.pyplot as plt
import seaborn as sns
import numpy as np

#make figures large

plt.rcParams["figure.figsize"] = (12,8)


#reading in the data
mammals_df=pd.read_csv("msleep.csv")

# To remove lines with missing values ('NaN'), run .dropna()
#mammals_df.dropna(inplace=True)

display(mammals_df)


#checking the data
mammals_df.info()





#first lets view the column headers
mammals_df.head()


# Accessing individual columns
mammals_df['genus']





#Getting all unique values in a column fo categorical variables
print(mammals_df['order'].unique())





# .value_counts()
mammals_df['order'].value_counts()


#How many carnivores, herbivores and omnibores were included in the study?





#Only return carnivorous rodent
mammals_df.query('order=="Rodentia" & vore=="carni"')





#What is the mean sleep length of each order of mammals?
mammals_grouped_by_species=mammals_df.groupby('order')['sleep_total'].mean().reset_index()
mammals_grouped_by_species





from IPython.display import IFrame
IFrame("https://app.wooclap.com/events/TGUORC/questions/65aafcb0b1b47f8b77fd45a4", 900,500)














##Single Numberical Variable
# Histogram
sns.histplot(mammals_df['sleep_total'], kde=False)
plt.title('Total Sleep per day (hours)')
plt.show()


##1 categorical, 1 numerical variable 

# Create a figure with multiple subplots
fig, ax = plt.subplots(3, 1, figsize=(15, 15))  # 1 rows, 3 columns

# Bar Chart
sns.barplot(x='vore', y='sleep_total', data=mammals_df, ax=ax[0])
ax[0].set_title('Order')
ax[0].set_ylabel('Sleep total (hours)')
ax[0].tick_params(axis='x', rotation=45)  # Rotate x-axis labels

# Swarmplot
sns.stripplot(x='vore', y='sleep_total', data=mammals_df, ax=ax[1])
ax[1].set_title('Order')
ax[1].set_ylabel('Sleep total (hours)')
ax[1].tick_params(axis='x', rotation=45)  # Rotate x-axis labels

# Box Plot
sns.boxplot(x='vore', y='sleep_total', data=mammals_df, ax=ax[2])
ax[2].set_title('Order')
ax[2].set_ylabel('Sleep total (hours)')
ax[2].tick_params(axis='x', rotation=45)  # Rotate x-axis labels

# Adjust the layout to prevent overlap
plt.tight_layout()

plt.show()




# 2 continuous numerical variables
#Is there a relationship between body weight and total sleep?
# Scatter Plot
sns.scatterplot(x='bodywt', y='sleep_total', hue='vore', data=mammals_df)
plt.title('Brain Weight vs. Sleep Total Scatterplot')

# Set x-axis to log scale (log10)
plt.xscale('log')

plt.xlabel("Body Weight (kg)")
plt.ylabel("Total Sleep (h)")

# Adjust layout to prevent overlap
plt.tight_layout()

plt.show()









penguin_df=pd.read_csv('palmer_penguins.csv')

sns.lineplot(x='year', y='body_mass_g', data=penguin_df, hue='species', ci=None)
plt.xlabel('Year')
plt.ylabel('Body Mass (grams)')
plt.title('Line Plot of Body Mass over time')
#Set x ticks to only show years
plt.xticks(range(min(penguin_df['year']), max(penguin_df['year'])+1))
plt.show()





malaria_df=pd.read_csv('Pfalciparum-data.csv')
malaria_df


#restrict to 2017 data and mortality data only
malaria_df_2017=malaria_df.query("Year==2017 and Metric=='Mortality Rate'")
malaria_df_2017


sns.catplot(data=malaria_df_2017, x="Name", y="Value", kind='bar', height=5, aspect=4, color='black');
plt.xticks(rotation=90);
plt.xlabel('Country')
plt.ylabel('Malaria Deaths per 100,000');





import plotly.express as px
# Create a choropleth map
fig = px.choropleth(malaria_df_2017, locations='Name', locationmode='country names', color='Value', title='Deaths per 100,000 from P falciparum malaria', scope='world', color_continuous_scale='Reds')
fig.show()





datasaurus=pd.read_csv('datasaurus.csv')
display(datasaurus.head())


# Swarmplot
sns.stripplot(data=datasaurus)
plt.ylabel("Value (units)")


datasaurus=pd.read_csv('datasaurus.csv')
sns.pairplot(datasaurus)
plt.show()












