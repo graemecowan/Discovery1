{
 "cells": [
  {
   "cell_type": "markdown",
   "id": "f031869e",
   "metadata": {},
   "source": [
    "# Pandas for Biological Data Analysis\n",
    "This notebook explores some of the commonly used features of Pandas for data science. In the field of biology, data can be incredibly diverse, ranging from genomic sequences to ecological observations. Efficient handling of this data is crucial for meaningful analysis. This guide will cover the basics of importing, viewing, filtering, and grouping data in Pandas."
   ]
  },
  {
   "cell_type": "markdown",
   "id": "5781ef0f",
   "metadata": {},
   "source": [
    "# Importing Data\n",
    "\n",
    "The first step in data analysis is importing the data. Biological datasets often come in structured formats like CSV and Excel files. Understanding how to import these files correctly is essential for any further data manipulation and analysis.\n",
    "\n",
    "## Reading from CSV\n",
    "CSV files are commonly used in biology for storing tabular data such as gene expression levels, phenotypic data, or sequencing results. To import a CSV file in Pandas:\n",
    "```python\n",
    "import pandas as pd\n",
    "gene_df = pd.read_csv('filename.csv')\n",
    "```\n",
    "\n",
    "## Reading from Excel\n",
    "\n",
    "Importing data from Excel is as straightforward:\n",
    "```python\n",
    "clinical_data = pd.read_excel('filename.xlsx')\n",
    "```\n",
    "\n",
    "In this workbook, we'll be using the Palmer penguins data set as an example. This dataset contains information about penguins from three different species that were observed on the Palmer Archipelago, Antarctica. The data includes information about the penguins' species, island, bill length and depth, flipper length, body mass, and sex.\n",
    "\n",
    "The data originally appeared in:\n",
    "\n",
    "Gorman KB, Williams TD, Fraser WR (2014). Ecological sexual dimorphism and environmental variability within a community of Antarctic penguins (genus Pygoscelis). PLoS ONE 9(3):e90081. https://doi.org/10.1371/journal.pone.0090081\n",
    "\n",
    "To load in the data from palmer_penguins.csv, we type:"
   ]
  },
  {
   "cell_type": "code",
   "execution_count": 1,
   "id": "bc838709",
   "metadata": {},
   "outputs": [],
   "source": [
    "import pandas as pd\n",
    "penguin_df=pd.read_csv(\"palmer_penguins.csv\")"
   ]
  },
  {
   "cell_type": "markdown",
   "id": "20fc50a6",
   "metadata": {},
   "source": [
    "# Viewing and Inspecting Biological Data\n",
    "Once the data is imported into a Pandas DataFrame, the next step is to inspect the data. This is crucial for understanding the structure and quality of the data before proceeding to more complex analyses.\n",
    "\n",
    "## Displaying Data\n",
    "To get a quick overview of the data, you can display the first few rows using `head()` or `tail()` methods:\n",
    "```python\n",
    "# Display the first 5 rows\n",
    "print(penguin_df.head())\n",
    "\n",
    "# Alternatively, for a more interactive display in Jupyter Notebooks\n",
    "display(panguin_df.head())\n",
    "```\n"
   ]
  },
  {
   "cell_type": "code",
   "execution_count": 2,
   "id": "7f4343f2",
   "metadata": {},
   "outputs": [
    {
     "name": "stdout",
     "output_type": "stream",
     "text": [
      "   rowid species     island  bill_length_mm  bill_depth_mm  flipper_length_mm  \\\n",
      "0      1  Adelie  Torgersen            39.1           18.7              181.0   \n",
      "1      2  Adelie  Torgersen            39.5           17.4              186.0   \n",
      "2      3  Adelie  Torgersen            40.3           18.0              195.0   \n",
      "3      4  Adelie  Torgersen             NaN            NaN                NaN   \n",
      "4      5  Adelie  Torgersen            36.7           19.3              193.0   \n",
      "\n",
      "   body_mass_g     sex  year  \n",
      "0       3750.0    male  2007  \n",
      "1       3800.0  female  2007  \n",
      "2       3250.0  female  2007  \n",
      "3          NaN     NaN  2007  \n",
      "4       3450.0  female  2007  \n"
     ]
    },
    {
     "data": {
      "text/html": [
       "<div>\n",
       "<style scoped>\n",
       "    .dataframe tbody tr th:only-of-type {\n",
       "        vertical-align: middle;\n",
       "    }\n",
       "\n",
       "    .dataframe tbody tr th {\n",
       "        vertical-align: top;\n",
       "    }\n",
       "\n",
       "    .dataframe thead th {\n",
       "        text-align: right;\n",
       "    }\n",
       "</style>\n",
       "<table border=\"1\" class=\"dataframe\">\n",
       "  <thead>\n",
       "    <tr style=\"text-align: right;\">\n",
       "      <th></th>\n",
       "      <th>rowid</th>\n",
       "      <th>species</th>\n",
       "      <th>island</th>\n",
       "      <th>bill_length_mm</th>\n",
       "      <th>bill_depth_mm</th>\n",
       "      <th>flipper_length_mm</th>\n",
       "      <th>body_mass_g</th>\n",
       "      <th>sex</th>\n",
       "      <th>year</th>\n",
       "    </tr>\n",
       "  </thead>\n",
       "  <tbody>\n",
       "    <tr>\n",
       "      <th>0</th>\n",
       "      <td>1</td>\n",
       "      <td>Adelie</td>\n",
       "      <td>Torgersen</td>\n",
       "      <td>39.1</td>\n",
       "      <td>18.7</td>\n",
       "      <td>181.0</td>\n",
       "      <td>3750.0</td>\n",
       "      <td>male</td>\n",
       "      <td>2007</td>\n",
       "    </tr>\n",
       "    <tr>\n",
       "      <th>1</th>\n",
       "      <td>2</td>\n",
       "      <td>Adelie</td>\n",
       "      <td>Torgersen</td>\n",
       "      <td>39.5</td>\n",
       "      <td>17.4</td>\n",
       "      <td>186.0</td>\n",
       "      <td>3800.0</td>\n",
       "      <td>female</td>\n",
       "      <td>2007</td>\n",
       "    </tr>\n",
       "    <tr>\n",
       "      <th>2</th>\n",
       "      <td>3</td>\n",
       "      <td>Adelie</td>\n",
       "      <td>Torgersen</td>\n",
       "      <td>40.3</td>\n",
       "      <td>18.0</td>\n",
       "      <td>195.0</td>\n",
       "      <td>3250.0</td>\n",
       "      <td>female</td>\n",
       "      <td>2007</td>\n",
       "    </tr>\n",
       "    <tr>\n",
       "      <th>3</th>\n",
       "      <td>4</td>\n",
       "      <td>Adelie</td>\n",
       "      <td>Torgersen</td>\n",
       "      <td>NaN</td>\n",
       "      <td>NaN</td>\n",
       "      <td>NaN</td>\n",
       "      <td>NaN</td>\n",
       "      <td>NaN</td>\n",
       "      <td>2007</td>\n",
       "    </tr>\n",
       "    <tr>\n",
       "      <th>4</th>\n",
       "      <td>5</td>\n",
       "      <td>Adelie</td>\n",
       "      <td>Torgersen</td>\n",
       "      <td>36.7</td>\n",
       "      <td>19.3</td>\n",
       "      <td>193.0</td>\n",
       "      <td>3450.0</td>\n",
       "      <td>female</td>\n",
       "      <td>2007</td>\n",
       "    </tr>\n",
       "  </tbody>\n",
       "</table>\n",
       "</div>"
      ],
      "text/plain": [
       "   rowid species     island  bill_length_mm  bill_depth_mm  flipper_length_mm  \\\n",
       "0      1  Adelie  Torgersen            39.1           18.7              181.0   \n",
       "1      2  Adelie  Torgersen            39.5           17.4              186.0   \n",
       "2      3  Adelie  Torgersen            40.3           18.0              195.0   \n",
       "3      4  Adelie  Torgersen             NaN            NaN                NaN   \n",
       "4      5  Adelie  Torgersen            36.7           19.3              193.0   \n",
       "\n",
       "   body_mass_g     sex  year  \n",
       "0       3750.0    male  2007  \n",
       "1       3800.0  female  2007  \n",
       "2       3250.0  female  2007  \n",
       "3          NaN     NaN  2007  \n",
       "4       3450.0  female  2007  "
      ]
     },
     "metadata": {},
     "output_type": "display_data"
    }
   ],
   "source": [
    "print(penguin_df.head())\n",
    "# or\n",
    "display(penguin_df.head())"
   ]
  },
  {
   "cell_type": "markdown",
   "id": "3fc5e053",
   "metadata": {},
   "source": [
    "# Checking the dataframe\n",
    "\n",
    "You can use df.shape() to check the dimensions of the dataframe, or df.info() to show the data types stored in the columns (variables).\n"
   ]
  },
  {
   "cell_type": "code",
   "execution_count": 3,
   "id": "3b2be29a",
   "metadata": {},
   "outputs": [
    {
     "name": "stdout",
     "output_type": "stream",
     "text": [
      "<class 'pandas.core.frame.DataFrame'>\n",
      "RangeIndex: 344 entries, 0 to 343\n",
      "Data columns (total 9 columns):\n",
      " #   Column             Non-Null Count  Dtype  \n",
      "---  ------             --------------  -----  \n",
      " 0   rowid              344 non-null    int64  \n",
      " 1   species            344 non-null    object \n",
      " 2   island             344 non-null    object \n",
      " 3   bill_length_mm     342 non-null    float64\n",
      " 4   bill_depth_mm      342 non-null    float64\n",
      " 5   flipper_length_mm  342 non-null    float64\n",
      " 6   body_mass_g        342 non-null    float64\n",
      " 7   sex                333 non-null    object \n",
      " 8   year               344 non-null    int64  \n",
      "dtypes: float64(4), int64(2), object(3)\n",
      "memory usage: 24.3+ KB\n"
     ]
    }
   ],
   "source": [
    "#checking the data\n",
    "penguin_df.info()"
   ]
  },
  {
   "cell_type": "markdown",
   "id": "c9c6ba0a",
   "metadata": {},
   "source": [
    "# Column selection\n",
    "\n",
    "To access a single column in the dataframe, you can use the following syntax:\n",
    "\n",
    "```python\n",
    "df['column_name']\n",
    "```\n",
    "\n",
    "For example, to access the 'species' column in the Palmer Penguins dataset, you can use the following code:\n",
    "\n",
    "```python\n",
    "species = df['species']\n",
    "print(species)\n",
    "```\n",
    "This will print the 'species' column of the dataframe. You can also access multiple columns by passing in a list of column names:\n",
    "\n",
    "```python\n",
    "columns = ['species', 'island', 'bill_length_mm']\n",
    "subset = df[columns]\n",
    "print(subset)\n",
    "```\n",
    "This will print a subset of the dataframe containing the 'species', 'island', and 'bill_length_mm' columns."
   ]
  },
  {
   "cell_type": "code",
   "execution_count": 4,
   "id": "871cb129",
   "metadata": {},
   "outputs": [
    {
     "data": {
      "text/plain": [
       "0         Adelie\n",
       "1         Adelie\n",
       "2         Adelie\n",
       "3         Adelie\n",
       "4         Adelie\n",
       "         ...    \n",
       "339    Chinstrap\n",
       "340    Chinstrap\n",
       "341    Chinstrap\n",
       "342    Chinstrap\n",
       "343    Chinstrap\n",
       "Name: species, Length: 344, dtype: object"
      ]
     },
     "execution_count": 4,
     "metadata": {},
     "output_type": "execute_result"
    }
   ],
   "source": [
    "penguin_df['species']"
   ]
  },
  {
   "cell_type": "markdown",
   "id": "e4868fad",
   "metadata": {},
   "source": [
    "\n",
    "### Accessing individual Rows\n",
    "#### loc[ ]\n",
    "\n",
    "The loc[ ] method is used to select rows and columns by label. We can use it to select specific rows and columns of the DataFrame. You can combine referencing by index (i.e. rows - in the example below indiced 0 to 4 are elected) with selecting individual columns. "
   ]
  },
  {
   "cell_type": "code",
   "execution_count": 5,
   "id": "37d77270",
   "metadata": {},
   "outputs": [
    {
     "data": {
      "text/html": [
       "<div>\n",
       "<style scoped>\n",
       "    .dataframe tbody tr th:only-of-type {\n",
       "        vertical-align: middle;\n",
       "    }\n",
       "\n",
       "    .dataframe tbody tr th {\n",
       "        vertical-align: top;\n",
       "    }\n",
       "\n",
       "    .dataframe thead th {\n",
       "        text-align: right;\n",
       "    }\n",
       "</style>\n",
       "<table border=\"1\" class=\"dataframe\">\n",
       "  <thead>\n",
       "    <tr style=\"text-align: right;\">\n",
       "      <th></th>\n",
       "      <th>species</th>\n",
       "      <th>island</th>\n",
       "    </tr>\n",
       "  </thead>\n",
       "  <tbody>\n",
       "    <tr>\n",
       "      <th>0</th>\n",
       "      <td>Adelie</td>\n",
       "      <td>Torgersen</td>\n",
       "    </tr>\n",
       "    <tr>\n",
       "      <th>1</th>\n",
       "      <td>Adelie</td>\n",
       "      <td>Torgersen</td>\n",
       "    </tr>\n",
       "    <tr>\n",
       "      <th>2</th>\n",
       "      <td>Adelie</td>\n",
       "      <td>Torgersen</td>\n",
       "    </tr>\n",
       "    <tr>\n",
       "      <th>3</th>\n",
       "      <td>Adelie</td>\n",
       "      <td>Torgersen</td>\n",
       "    </tr>\n",
       "    <tr>\n",
       "      <th>4</th>\n",
       "      <td>Adelie</td>\n",
       "      <td>Torgersen</td>\n",
       "    </tr>\n",
       "  </tbody>\n",
       "</table>\n",
       "</div>"
      ],
      "text/plain": [
       "  species     island\n",
       "0  Adelie  Torgersen\n",
       "1  Adelie  Torgersen\n",
       "2  Adelie  Torgersen\n",
       "3  Adelie  Torgersen\n",
       "4  Adelie  Torgersen"
      ]
     },
     "execution_count": 5,
     "metadata": {},
     "output_type": "execute_result"
    }
   ],
   "source": [
    "# Select the first 5 rows and the 'species' and 'island' columns\n",
    "penguin_df.loc[0:4, ['species', 'island']]\n"
   ]
  },
  {
   "cell_type": "markdown",
   "id": "efa58051",
   "metadata": {},
   "source": [
    "### iloc[ ]\n",
    "The iloc[ ] method is used to select rows and columns by integer position. We can use it to select specific rows and columns of the DataFrame."
   ]
  },
  {
   "cell_type": "code",
   "execution_count": 6,
   "id": "9c1f4a6e",
   "metadata": {},
   "outputs": [
    {
     "data": {
      "text/html": [
       "<div>\n",
       "<style scoped>\n",
       "    .dataframe tbody tr th:only-of-type {\n",
       "        vertical-align: middle;\n",
       "    }\n",
       "\n",
       "    .dataframe tbody tr th {\n",
       "        vertical-align: top;\n",
       "    }\n",
       "\n",
       "    .dataframe thead th {\n",
       "        text-align: right;\n",
       "    }\n",
       "</style>\n",
       "<table border=\"1\" class=\"dataframe\">\n",
       "  <thead>\n",
       "    <tr style=\"text-align: right;\">\n",
       "      <th></th>\n",
       "      <th>rowid</th>\n",
       "      <th>species</th>\n",
       "      <th>island</th>\n",
       "    </tr>\n",
       "  </thead>\n",
       "  <tbody>\n",
       "    <tr>\n",
       "      <th>0</th>\n",
       "      <td>1</td>\n",
       "      <td>Adelie</td>\n",
       "      <td>Torgersen</td>\n",
       "    </tr>\n",
       "    <tr>\n",
       "      <th>1</th>\n",
       "      <td>2</td>\n",
       "      <td>Adelie</td>\n",
       "      <td>Torgersen</td>\n",
       "    </tr>\n",
       "    <tr>\n",
       "      <th>2</th>\n",
       "      <td>3</td>\n",
       "      <td>Adelie</td>\n",
       "      <td>Torgersen</td>\n",
       "    </tr>\n",
       "    <tr>\n",
       "      <th>3</th>\n",
       "      <td>4</td>\n",
       "      <td>Adelie</td>\n",
       "      <td>Torgersen</td>\n",
       "    </tr>\n",
       "    <tr>\n",
       "      <th>4</th>\n",
       "      <td>5</td>\n",
       "      <td>Adelie</td>\n",
       "      <td>Torgersen</td>\n",
       "    </tr>\n",
       "  </tbody>\n",
       "</table>\n",
       "</div>"
      ],
      "text/plain": [
       "   rowid species     island\n",
       "0      1  Adelie  Torgersen\n",
       "1      2  Adelie  Torgersen\n",
       "2      3  Adelie  Torgersen\n",
       "3      4  Adelie  Torgersen\n",
       "4      5  Adelie  Torgersen"
      ]
     },
     "execution_count": 6,
     "metadata": {},
     "output_type": "execute_result"
    }
   ],
   "source": [
    "# Select the first 5 rows and the first 3 columns\n",
    "penguin_df.iloc[0:5, 0:3]\n"
   ]
  },
  {
   "cell_type": "markdown",
   "id": "23899070",
   "metadata": {},
   "source": [
    "# Getting unique values in column: .unique()\n",
    "\n",
    "\n",
    "The .unique() method in pandas is used to find the unique values from a column in a DataFrame or a Series. This function is incredibly useful for exploring and understanding your dataset, especially when dealing with categorical data. It helps in identifying the distinct categories or values present in a column.\n",
    "\n",
    "For example, to identify all the unique entries in the 'treatment_type' column, we'd enter:\n"
   ]
  },
  {
   "cell_type": "code",
   "execution_count": 7,
   "id": "e248ac8a",
   "metadata": {},
   "outputs": [
    {
     "name": "stdout",
     "output_type": "stream",
     "text": [
      "['Adelie' 'Gentoo' 'Chinstrap']\n"
     ]
    }
   ],
   "source": [
    "print( penguin_df['species'].unique() )\n"
   ]
  },
  {
   "cell_type": "markdown",
   "id": "b106b22c",
   "metadata": {
    "slideshow": {
     "slide_type": "subslide"
    }
   },
   "source": [
    "# .value_counts()\n",
    "\n",
    "`value_counts()` is a method in the pandas library for counting the number of occurrences of each unique value in a column of a DataFrame or a Series."
   ]
  },
  {
   "cell_type": "code",
   "execution_count": 8,
   "id": "79204d91",
   "metadata": {
    "slideshow": {
     "slide_type": "subslide"
    }
   },
   "outputs": [
    {
     "data": {
      "text/plain": [
       "species\n",
       "Adelie       152\n",
       "Gentoo       124\n",
       "Chinstrap     68\n",
       "Name: count, dtype: int64"
      ]
     },
     "execution_count": 8,
     "metadata": {},
     "output_type": "execute_result"
    }
   ],
   "source": [
    "# .value_counts()\n",
    "\n",
    "penguin_df['species'].value_counts()"
   ]
  },
  {
   "cell_type": "code",
   "execution_count": 9,
   "id": "738ab5d7",
   "metadata": {
    "slideshow": {
     "slide_type": "subslide"
    }
   },
   "outputs": [
    {
     "data": {
      "text/plain": [
       "sex\n",
       "male      168\n",
       "female    165\n",
       "Name: count, dtype: int64"
      ]
     },
     "execution_count": 9,
     "metadata": {},
     "output_type": "execute_result"
    }
   ],
   "source": [
    "#Class exercise: How many male penguins and female penguins were included in the study?\n",
    "penguin_df['sex'].value_counts()"
   ]
  },
  {
   "cell_type": "markdown",
   "id": "f542da19",
   "metadata": {
    "slideshow": {
     "slide_type": "subslide"
    }
   },
   "source": [
    "# .crosstab()\n",
    "\n",
    "`.crosstab()` is a function in the pandas library for creating a cross-tabulation (or \"contingency table\") of two or more factors. It is used to analyze the relationship between two categorical variables."
   ]
  },
  {
   "cell_type": "code",
   "execution_count": 10,
   "id": "0e9d842a",
   "metadata": {
    "slideshow": {
     "slide_type": "subslide"
    }
   },
   "outputs": [
    {
     "name": "stdout",
     "output_type": "stream",
     "text": [
      "species    Adelie  Chinstrap  Gentoo\n",
      "island                              \n",
      "Biscoe         44          0     124\n",
      "Dream          56         68       0\n",
      "Torgersen      52          0       0\n"
     ]
    }
   ],
   "source": [
    "cont_table=pd.crosstab(penguin_df['island'], penguin_df['species'])\n",
    "print(cont_table)"
   ]
  },
  {
   "cell_type": "markdown",
   "id": "992c5b7c",
   "metadata": {
    "slideshow": {
     "slide_type": "subslide"
    }
   },
   "source": [
    "# .query()\n",
    "\n",
    "The query() method is used to filter rows of a DataFrame based on a query expression. The query expression is a string that can contain variables, comparison operators, and logical operators."
   ]
  },
  {
   "cell_type": "code",
   "execution_count": 11,
   "id": "61a70d04",
   "metadata": {
    "slideshow": {
     "slide_type": "subslide"
    }
   },
   "outputs": [
    {
     "data": {
      "text/html": [
       "<div>\n",
       "<style scoped>\n",
       "    .dataframe tbody tr th:only-of-type {\n",
       "        vertical-align: middle;\n",
       "    }\n",
       "\n",
       "    .dataframe tbody tr th {\n",
       "        vertical-align: top;\n",
       "    }\n",
       "\n",
       "    .dataframe thead th {\n",
       "        text-align: right;\n",
       "    }\n",
       "</style>\n",
       "<table border=\"1\" class=\"dataframe\">\n",
       "  <thead>\n",
       "    <tr style=\"text-align: right;\">\n",
       "      <th></th>\n",
       "      <th>rowid</th>\n",
       "      <th>species</th>\n",
       "      <th>island</th>\n",
       "      <th>bill_length_mm</th>\n",
       "      <th>bill_depth_mm</th>\n",
       "      <th>flipper_length_mm</th>\n",
       "      <th>body_mass_g</th>\n",
       "      <th>sex</th>\n",
       "      <th>year</th>\n",
       "    </tr>\n",
       "  </thead>\n",
       "  <tbody>\n",
       "    <tr>\n",
       "      <th>152</th>\n",
       "      <td>153</td>\n",
       "      <td>Gentoo</td>\n",
       "      <td>Biscoe</td>\n",
       "      <td>46.1</td>\n",
       "      <td>13.2</td>\n",
       "      <td>211.0</td>\n",
       "      <td>4500.0</td>\n",
       "      <td>female</td>\n",
       "      <td>2007</td>\n",
       "    </tr>\n",
       "    <tr>\n",
       "      <th>153</th>\n",
       "      <td>154</td>\n",
       "      <td>Gentoo</td>\n",
       "      <td>Biscoe</td>\n",
       "      <td>50.0</td>\n",
       "      <td>16.3</td>\n",
       "      <td>230.0</td>\n",
       "      <td>5700.0</td>\n",
       "      <td>male</td>\n",
       "      <td>2007</td>\n",
       "    </tr>\n",
       "    <tr>\n",
       "      <th>154</th>\n",
       "      <td>155</td>\n",
       "      <td>Gentoo</td>\n",
       "      <td>Biscoe</td>\n",
       "      <td>48.7</td>\n",
       "      <td>14.1</td>\n",
       "      <td>210.0</td>\n",
       "      <td>4450.0</td>\n",
       "      <td>female</td>\n",
       "      <td>2007</td>\n",
       "    </tr>\n",
       "    <tr>\n",
       "      <th>155</th>\n",
       "      <td>156</td>\n",
       "      <td>Gentoo</td>\n",
       "      <td>Biscoe</td>\n",
       "      <td>50.0</td>\n",
       "      <td>15.2</td>\n",
       "      <td>218.0</td>\n",
       "      <td>5700.0</td>\n",
       "      <td>male</td>\n",
       "      <td>2007</td>\n",
       "    </tr>\n",
       "    <tr>\n",
       "      <th>156</th>\n",
       "      <td>157</td>\n",
       "      <td>Gentoo</td>\n",
       "      <td>Biscoe</td>\n",
       "      <td>47.6</td>\n",
       "      <td>14.5</td>\n",
       "      <td>215.0</td>\n",
       "      <td>5400.0</td>\n",
       "      <td>male</td>\n",
       "      <td>2007</td>\n",
       "    </tr>\n",
       "    <tr>\n",
       "      <th>...</th>\n",
       "      <td>...</td>\n",
       "      <td>...</td>\n",
       "      <td>...</td>\n",
       "      <td>...</td>\n",
       "      <td>...</td>\n",
       "      <td>...</td>\n",
       "      <td>...</td>\n",
       "      <td>...</td>\n",
       "      <td>...</td>\n",
       "    </tr>\n",
       "    <tr>\n",
       "      <th>270</th>\n",
       "      <td>271</td>\n",
       "      <td>Gentoo</td>\n",
       "      <td>Biscoe</td>\n",
       "      <td>47.2</td>\n",
       "      <td>13.7</td>\n",
       "      <td>214.0</td>\n",
       "      <td>4925.0</td>\n",
       "      <td>female</td>\n",
       "      <td>2009</td>\n",
       "    </tr>\n",
       "    <tr>\n",
       "      <th>272</th>\n",
       "      <td>273</td>\n",
       "      <td>Gentoo</td>\n",
       "      <td>Biscoe</td>\n",
       "      <td>46.8</td>\n",
       "      <td>14.3</td>\n",
       "      <td>215.0</td>\n",
       "      <td>4850.0</td>\n",
       "      <td>female</td>\n",
       "      <td>2009</td>\n",
       "    </tr>\n",
       "    <tr>\n",
       "      <th>273</th>\n",
       "      <td>274</td>\n",
       "      <td>Gentoo</td>\n",
       "      <td>Biscoe</td>\n",
       "      <td>50.4</td>\n",
       "      <td>15.7</td>\n",
       "      <td>222.0</td>\n",
       "      <td>5750.0</td>\n",
       "      <td>male</td>\n",
       "      <td>2009</td>\n",
       "    </tr>\n",
       "    <tr>\n",
       "      <th>274</th>\n",
       "      <td>275</td>\n",
       "      <td>Gentoo</td>\n",
       "      <td>Biscoe</td>\n",
       "      <td>45.2</td>\n",
       "      <td>14.8</td>\n",
       "      <td>212.0</td>\n",
       "      <td>5200.0</td>\n",
       "      <td>female</td>\n",
       "      <td>2009</td>\n",
       "    </tr>\n",
       "    <tr>\n",
       "      <th>275</th>\n",
       "      <td>276</td>\n",
       "      <td>Gentoo</td>\n",
       "      <td>Biscoe</td>\n",
       "      <td>49.9</td>\n",
       "      <td>16.1</td>\n",
       "      <td>213.0</td>\n",
       "      <td>5400.0</td>\n",
       "      <td>male</td>\n",
       "      <td>2009</td>\n",
       "    </tr>\n",
       "  </tbody>\n",
       "</table>\n",
       "<p>122 rows × 9 columns</p>\n",
       "</div>"
      ],
      "text/plain": [
       "     rowid species  island  bill_length_mm  bill_depth_mm  flipper_length_mm  \\\n",
       "152    153  Gentoo  Biscoe            46.1           13.2              211.0   \n",
       "153    154  Gentoo  Biscoe            50.0           16.3              230.0   \n",
       "154    155  Gentoo  Biscoe            48.7           14.1              210.0   \n",
       "155    156  Gentoo  Biscoe            50.0           15.2              218.0   \n",
       "156    157  Gentoo  Biscoe            47.6           14.5              215.0   \n",
       "..     ...     ...     ...             ...            ...                ...   \n",
       "270    271  Gentoo  Biscoe            47.2           13.7              214.0   \n",
       "272    273  Gentoo  Biscoe            46.8           14.3              215.0   \n",
       "273    274  Gentoo  Biscoe            50.4           15.7              222.0   \n",
       "274    275  Gentoo  Biscoe            45.2           14.8              212.0   \n",
       "275    276  Gentoo  Biscoe            49.9           16.1              213.0   \n",
       "\n",
       "     body_mass_g     sex  year  \n",
       "152       4500.0  female  2007  \n",
       "153       5700.0    male  2007  \n",
       "154       4450.0  female  2007  \n",
       "155       5700.0    male  2007  \n",
       "156       5400.0    male  2007  \n",
       "..           ...     ...   ...  \n",
       "270       4925.0  female  2009  \n",
       "272       4850.0  female  2009  \n",
       "273       5750.0    male  2009  \n",
       "274       5200.0  female  2009  \n",
       "275       5400.0    male  2009  \n",
       "\n",
       "[122 rows x 9 columns]"
      ]
     },
     "execution_count": 11,
     "metadata": {},
     "output_type": "execute_result"
    }
   ],
   "source": [
    "# Filter the DataFrame to select rows where the 'body_mass_g' column is greater than 4000 and the 'species' column is equal to 'Gentoo'\n",
    "penguin_df.query(\"body_mass_g > 4000 and species == 'Gentoo'\")"
   ]
  },
  {
   "cell_type": "markdown",
   "id": "8e332c8b",
   "metadata": {
    "slideshow": {
     "slide_type": "slide"
    }
   },
   "source": [
    "# .groupby()\n",
    "\n",
    "`.groupby()` allows you to group large sets of data and compute operations on these groups.\n",
    "\n",
    "The groupby operation involves some combination of splitting the data into groups, applying a function to each group independently, and then combining the results.\n"
   ]
  },
  {
   "cell_type": "code",
   "execution_count": 12,
   "id": "7399d0d0",
   "metadata": {
    "scrolled": true,
    "slideshow": {
     "slide_type": "subslide"
    }
   },
   "outputs": [
    {
     "data": {
      "text/html": [
       "<div>\n",
       "<style scoped>\n",
       "    .dataframe tbody tr th:only-of-type {\n",
       "        vertical-align: middle;\n",
       "    }\n",
       "\n",
       "    .dataframe tbody tr th {\n",
       "        vertical-align: top;\n",
       "    }\n",
       "\n",
       "    .dataframe thead th {\n",
       "        text-align: right;\n",
       "    }\n",
       "</style>\n",
       "<table border=\"1\" class=\"dataframe\">\n",
       "  <thead>\n",
       "    <tr style=\"text-align: right;\">\n",
       "      <th></th>\n",
       "      <th>species</th>\n",
       "      <th>bill_length_mm</th>\n",
       "    </tr>\n",
       "  </thead>\n",
       "  <tbody>\n",
       "    <tr>\n",
       "      <th>0</th>\n",
       "      <td>Adelie</td>\n",
       "      <td>38.791391</td>\n",
       "    </tr>\n",
       "    <tr>\n",
       "      <th>1</th>\n",
       "      <td>Chinstrap</td>\n",
       "      <td>48.833824</td>\n",
       "    </tr>\n",
       "    <tr>\n",
       "      <th>2</th>\n",
       "      <td>Gentoo</td>\n",
       "      <td>47.504878</td>\n",
       "    </tr>\n",
       "  </tbody>\n",
       "</table>\n",
       "</div>"
      ],
      "text/plain": [
       "     species  bill_length_mm\n",
       "0     Adelie       38.791391\n",
       "1  Chinstrap       48.833824\n",
       "2     Gentoo       47.504878"
      ]
     },
     "execution_count": 12,
     "metadata": {},
     "output_type": "execute_result"
    }
   ],
   "source": [
    "#What is the mean beak length of each penguin species?\n",
    "penguin_grouped_by_species=penguin_df.groupby('species')['bill_length_mm'].mean().reset_index()\n",
    "penguin_grouped_by_species"
   ]
  },
  {
   "cell_type": "code",
   "execution_count": 13,
   "id": "c9d8a76c",
   "metadata": {},
   "outputs": [
    {
     "data": {
      "text/html": [
       "<div>\n",
       "<style scoped>\n",
       "    .dataframe tbody tr th:only-of-type {\n",
       "        vertical-align: middle;\n",
       "    }\n",
       "\n",
       "    .dataframe tbody tr th {\n",
       "        vertical-align: top;\n",
       "    }\n",
       "\n",
       "    .dataframe thead th {\n",
       "        text-align: right;\n",
       "    }\n",
       "</style>\n",
       "<table border=\"1\" class=\"dataframe\">\n",
       "  <thead>\n",
       "    <tr style=\"text-align: right;\">\n",
       "      <th></th>\n",
       "      <th>species</th>\n",
       "      <th>sex</th>\n",
       "      <th>body_mass_g</th>\n",
       "    </tr>\n",
       "  </thead>\n",
       "  <tbody>\n",
       "    <tr>\n",
       "      <th>0</th>\n",
       "      <td>Adelie</td>\n",
       "      <td>female</td>\n",
       "      <td>3400.0</td>\n",
       "    </tr>\n",
       "    <tr>\n",
       "      <th>1</th>\n",
       "      <td>Adelie</td>\n",
       "      <td>male</td>\n",
       "      <td>4000.0</td>\n",
       "    </tr>\n",
       "    <tr>\n",
       "      <th>2</th>\n",
       "      <td>Chinstrap</td>\n",
       "      <td>female</td>\n",
       "      <td>3550.0</td>\n",
       "    </tr>\n",
       "    <tr>\n",
       "      <th>3</th>\n",
       "      <td>Chinstrap</td>\n",
       "      <td>male</td>\n",
       "      <td>3950.0</td>\n",
       "    </tr>\n",
       "    <tr>\n",
       "      <th>4</th>\n",
       "      <td>Gentoo</td>\n",
       "      <td>female</td>\n",
       "      <td>4700.0</td>\n",
       "    </tr>\n",
       "    <tr>\n",
       "      <th>5</th>\n",
       "      <td>Gentoo</td>\n",
       "      <td>male</td>\n",
       "      <td>5500.0</td>\n",
       "    </tr>\n",
       "  </tbody>\n",
       "</table>\n",
       "</div>"
      ],
      "text/plain": [
       "     species     sex  body_mass_g\n",
       "0     Adelie  female       3400.0\n",
       "1     Adelie    male       4000.0\n",
       "2  Chinstrap  female       3550.0\n",
       "3  Chinstrap    male       3950.0\n",
       "4     Gentoo  female       4700.0\n",
       "5     Gentoo    male       5500.0"
      ]
     },
     "execution_count": 13,
     "metadata": {},
     "output_type": "execute_result"
    }
   ],
   "source": [
    "#What is the median body mass of male and female penguins of each species in the dataset?\n",
    "penguin_df.groupby(['species', 'sex'])['body_mass_g'].median().reset_index()\n"
   ]
  },
  {
   "cell_type": "markdown",
   "id": "a6105596",
   "metadata": {},
   "source": [
    "# Exercise: Exploring Gene Expression Dataset with pandas\n",
    "\n",
    "In this exercise, you will practice data manipulation and analysis skills using the pandas library in Python. You will explore a dataset of gene expression values using various pandas methods, including .info(), .query(), and .groupby().\n",
    "\n",
    "Dataset:\n",
    "\n",
    "The dataset you will be working a csv file names 'gene_expression_dataset.csv' which contains 200 records of gene expression values across different categories and treatment groups. Each record includes a gene ID, expression levels, and various categorizations.\n",
    "\n",
    "Tasks:\n",
    "\n",
    "Dataset Overview:\n",
    "* Load the gene expression dataset into a pandas DataFrame. Use the .info() method to understand the structure of the DataFrame. Note the number of entries, the data types of each column, and whether there are any missing values.\n",
    "Filtering Data with Query:\n",
    "* Use the .query() method to filter out records where the Expression_Level is 'High' and the Treatment_Group is 'Treatment1'.\n",
    "* Store the filtered data in a new DataFrame and display the first 5 rows.\n",
    "* Grouping and Aggregating Data:\n",
    "Use the .groupby() method to group the data by Treatment_Group.\n",
    "Calculate the mean of 'Category_A', 'Category_B', and 'Category_C' for each treatment group.\n",
    "Display the results in a well-structured format.\n",
    "Deliverables:\n",
    "\n",
    "A Jupyter Notebook containing the completed tasks, including the code and output for each step.\n",
    "A brief summary of your findings from the .groupby() analysis, particularly noting any differences in mean values across treatment groups.\n",
    "Hints:\n",
    "\n",
    "Remember to import pandas before starting your analysis.\n",
    "For the .query() method, ensure your query string is correctly formatted.\n",
    "After grouping the data, you can use .mean() to calculate the mean for the grouped data.\n",
    "\n",
    "Load the dataset "
   ]
  },
  {
   "cell_type": "markdown",
   "id": "1378ef2f",
   "metadata": {},
   "source": [
    "Here are the answers for the exercise:\n",
    "\n",
    "1. **Dataset Overview:**\n",
    "   - The dataset contains 200 entries across 7 columns. There are no missing values. The columns are as follows:\n",
    "     - `Gene_ID`: object type\n",
    "     - `Category_A`: float64\n",
    "     - `Category_B`: float64\n",
    "     - `Category_C`: float64\n",
    "     - `Expression_Level`: object\n",
    "     - `Treatment_Group`: object\n",
    "     - `Time_Point`: object\n",
    "\n",
    "2. **Filtering Data with Query:**\n",
    "   - After filtering the data where `Expression_Level` is 'High' and `Treatment_Group` is 'Treatment1', the first five rows are:\n",
    "\n",
    "    | Gene_ID | Category_A | Category_B | Category_C | Expression_Level | Treatment_Group | Time_Point |\n",
    "    |---------|------------|------------|------------|------------------|-----------------|------------|\n",
    "    | Gene_1  | 0.422814   | 0.719947   | 0.551052   | High             | Treatment1      | T0         |\n",
    "    | Gene_12 | 0.733659   | 0.710027   | 0.053329   | High             | Treatment1      | T72        |\n",
    "    | Gene_16 | 0.536511   | 0.262844   | 0.359716   | High             | Treatment1      | T0         |\n",
    "    | Gene_22 | 0.022283   | 0.018544   | 0.465654   | High             | Treatment1      | T24        |\n",
    "    | Gene_24 | 0.993123   | 0.523973   | 0.514865   | High             | Treatment1      | T0         |\n",
    "\n",
    "3. **Grouping and Aggregating Data:**\n",
    "   - The mean of 'Category_A', 'Category_B', and 'Category_C' for each treatment group is:\n",
    "\n",
    "    | Treatment_Group | Category_A | Category_B | Category_C |\n",
    "    |-----------------|------------|------------|------------|\n",
    "    | Control         | 0.533084   | 0.458343   | 0.543662   |\n",
    "    | Treatment1      | 0.552448   | 0.506707   | 0.485414   |\n",
    "    | Treatment2      | 0.511768   | 0.515504   | 0.498134   |\n",
    "\n",
    "From the grouping and aggregation, we can observe the differences in mean values across different treatment groups for each category, providing insights into how treatments may influence gene expression in different categories."
   ]
  },
  {
   "cell_type": "code",
   "execution_count": 14,
   "id": "527f7d10",
   "metadata": {},
   "outputs": [
    {
     "name": "stdout",
     "output_type": "stream",
     "text": [
      "Dataset Overview:\n",
      "<class 'pandas.core.frame.DataFrame'>\n",
      "RangeIndex: 200 entries, 0 to 199\n",
      "Data columns (total 7 columns):\n",
      " #   Column            Non-Null Count  Dtype  \n",
      "---  ------            --------------  -----  \n",
      " 0   Gene_ID           200 non-null    object \n",
      " 1   Category_A        200 non-null    float64\n",
      " 2   Category_B        200 non-null    float64\n",
      " 3   Category_C        200 non-null    float64\n",
      " 4   Expression_Level  200 non-null    object \n",
      " 5   Treatment_Group   200 non-null    object \n",
      " 6   Time_Point        200 non-null    object \n",
      "dtypes: float64(3), object(4)\n",
      "memory usage: 11.1+ KB\n",
      "\n",
      "Filtered Data (Expression_Level = High and Treatment_Group = Treatment1):\n",
      "    Gene_ID  Category_A  Category_B  Category_C Expression_Level  \\\n",
      "0    Gene_1    0.422814    0.719947    0.551052             High   \n",
      "11  Gene_12    0.733659    0.710027    0.053329             High   \n",
      "15  Gene_16    0.536511    0.262844    0.359716             High   \n",
      "21  Gene_22    0.022283    0.018544    0.465654             High   \n",
      "23  Gene_24    0.993123    0.523973    0.514865             High   \n",
      "\n",
      "   Treatment_Group Time_Point  \n",
      "0       Treatment1         T0  \n",
      "11      Treatment1        T72  \n",
      "15      Treatment1         T0  \n",
      "21      Treatment1        T24  \n",
      "23      Treatment1         T0  \n",
      "\n",
      "Grouped Data Mean Values by Treatment Group:\n",
      "                 Category_A  Category_B  Category_C\n",
      "Treatment_Group                                    \n",
      "Control            0.533084    0.458343    0.543662\n",
      "Treatment1         0.552448    0.506707    0.485414\n",
      "Treatment2         0.511768    0.515504    0.498134\n"
     ]
    }
   ],
   "source": [
    "import pandas as pd\n",
    "\n",
    "# Load the dataset\n",
    "gene_df = pd.read_csv('gene_expression_dataset.csv')\n",
    "\n",
    "# Task 1: Dataset Overview\n",
    "print(\"Dataset Overview:\")\n",
    "gene_df.info()\n",
    "\n",
    "# Task 2: Filtering Data with Query\n",
    "print(\"\\nFiltered Data (Expression_Level = High and Treatment_Group = Treatment1):\")\n",
    "filtered_df = gene_df.query('Expression_Level == \"High\" and Treatment_Group == \"Treatment1\"')\n",
    "print(filtered_df.head())\n",
    "\n",
    "# Task 3: Grouping and Aggregating Data\n",
    "print(\"\\nGrouped Data Mean Values by Treatment Group:\")\n",
    "grouped_data = gene_df.groupby('Treatment_Group')[['Category_A', 'Category_B', 'Category_C']].mean()\n",
    "print(grouped_data)\n"
   ]
  },
  {
   "cell_type": "code",
   "execution_count": null,
   "id": "34bd9739",
   "metadata": {},
   "outputs": [],
   "source": []
  },
  {
   "cell_type": "code",
   "execution_count": null,
   "id": "26129884",
   "metadata": {},
   "outputs": [],
   "source": []
  }
 ],
 "metadata": {
  "kernelspec": {
   "display_name": "Python 3 (ipykernel)",
   "language": "python",
   "name": "python3"
  },
  "language_info": {
   "codemirror_mode": {
    "name": "ipython",
    "version": 3
   },
   "file_extension": ".py",
   "mimetype": "text/x-python",
   "name": "python",
   "nbconvert_exporter": "python",
   "pygments_lexer": "ipython3",
   "version": "3.11.7"
  }
 },
 "nbformat": 4,
 "nbformat_minor": 5
}
