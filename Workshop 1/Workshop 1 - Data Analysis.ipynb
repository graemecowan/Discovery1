{
 "cells": [
  {
   "cell_type": "markdown",
   "metadata": {},
   "source": [
    "<img style=\"float: right;\" width = 450 src=\"ternary_uk.png\"> \n",
    "\n",
    "# Ternary Soil Plots\n",
    "\n",
    "### Generating Soil Texture Ternary Plots with Python\n",
    "\n",
    "\n",
    "\n",
    "A soil texture ternary plot is a graphical representation of the relative proportions of sand, silt, and clay in a soil sample. These three components are considered the main indicators of soil texture and are used to classify soils into different texture classes. \n",
    "\n",
    "The plot is arranged in the shape of a triangle, with the three corners representing sand, silt, and clay, respectively. Each point within the triangle represents a unique combination of the three components, and the relative position of a point within the triangle indicates the relative proportions of the components in the soil sample. This type of plot is often used in soil science to quickly and easily visualize the texture of a soil sample.\n",
    "\n",
    "The aim of this data analysis session is to plot a soil texture ternary plot of the data you have collected in the workshop to provide a visual comparison of your samples."
   ]
  },
  {
   "cell_type": "markdown",
   "metadata": {},
   "source": [
    "### 1.1 Download all group's soil structure data\n",
    "\n",
    "Download the all data from the workshop by running the code in the cell below. This code used a Python module called `requests` to download the Excel file from SharePoint and to save it locally.\n",
    "\n",
    "\n"
   ]
  },
  {
   "cell_type": "code",
   "execution_count": 3,
   "metadata": {},
   "outputs": [],
   "source": [
    "#download shared group data\n",
    "\n",
    "import requests\n",
    "import pandas as pd\n",
    "\n",
    "file_url ='https://uoe-my.sharepoint.com/:x:/g/personal/gcowan2_ed_ac_uk/EU430DLGumlGnVOSED31HPsB-q0W7UodH1G9AAO2CU7DsQ?download=1'\n",
    "\n",
    "image_name = 'soil_data_groups.xlsx'\n",
    "r = requests.get(file_url, stream=True)\n",
    "with open(image_name, 'wb') as f:\n",
    "    for chunk in r.iter_content():\n",
    "        f.write(chunk)\n"
   ]
  },
  {
   "cell_type": "markdown",
   "metadata": {},
   "source": [
    "### 1.2 Check the downloaded data\n",
    "\n",
    "You previously used the pandas method `read_excel` to read data into a dataframe during the Pseudomonas Analysis in Variation 1. \n",
    "\n",
    "Write Python code in the cell below to load the data in soil_data_groups.xlsx into a dataframe called `soil_df`, then print the contents of the dataframe."
   ]
  },
  {
   "cell_type": "code",
   "execution_count": 4,
   "metadata": {
    "solution2": "hidden",
    "solution2_first": true
   },
   "outputs": [],
   "source": [
    "#Write your code here\n"
   ]
  },
  {
   "cell_type": "code",
   "execution_count": 5,
   "metadata": {
    "solution2": "hidden"
   },
   "outputs": [
    {
     "name": "stdout",
     "output_type": "stream",
     "text": [
      "    sand  silt  clay  porosity  om                group  sample#  \\\n",
      "0     60    24    16        34  54              Amoebae        1   \n",
      "1     20    50    30        20   2              Amoebae        2   \n",
      "2      0    55    45        54   6              Amoebae        3   \n",
      "3     70    10    20        45   3              Amoebae        4   \n",
      "4     62    22    16        34  74     BrilliantBacilli        1   \n",
      "5     20    49    31        20   2     BrilliantBacilli        2   \n",
      "6      0    50    50        54   6     BrilliantBacilli        3   \n",
      "7     70    10    20        45   3     BrilliantBacilli        4   \n",
      "8     58    18    24        34  45  CreativeCephalopods        1   \n",
      "9     18    46    36        20   2  CreativeCephalopods        2   \n",
      "10     0    50    50        54   6  CreativeCephalopods        3   \n",
      "11    70    10    20        45   3  CreativeCephalopods        4   \n",
      "12    58    18    24        34  50        DaringDaphnea        1   \n",
      "13    18    46    36        20   2        DaringDaphnea        2   \n",
      "14     0    53    47        54   6        DaringDaphnea        3   \n",
      "15    67    16    17        45   3        DaringDaphnea        4   \n",
      "\n",
      "           soiltype  \n",
      "0              Loam  \n",
      "1         Clay Loam  \n",
      "2         Silt Loam  \n",
      "3              Clay  \n",
      "4              Loam  \n",
      "5         Clay Loam  \n",
      "6         Silt Loam  \n",
      "7              Clay  \n",
      "8              Loam  \n",
      "9         Clay Loam  \n",
      "10        Silt Loam  \n",
      "11             Clay  \n",
      "12  Sandy Silt Loam  \n",
      "13        Clay Silt  \n",
      "14        Silt Loam  \n",
      "15             Clay  \n"
     ]
    }
   ],
   "source": [
    "import pandas as pd\n",
    "soil_df =pd.read_excel('soil_data_groups.xlsx')\n",
    "print(soil_df)"
   ]
  },
  {
   "cell_type": "markdown",
   "metadata": {},
   "source": [
    "### 1.3 Identify the types of variable your data contains\n",
    "\n",
    "In Variation 1, you learned that there are two main types of variable, **categorical variables** and **numerical variables**.\n",
    "\n",
    "Categorical variables can be either **nominal** and **ordinal**, and numerical variables can be either continuous or discrete. \n",
    "\n",
    "If you are unsure of these definitions, check Self Study Notebook 2.4 from Variation 1.\n",
    "\n",
    "Identify the types of variables contained in the following columns and write them in the text box below.\n"
   ]
  },
  {
   "cell_type": "raw",
   "metadata": {
    "solution2": "hidden",
    "solution2_first": true
   },
   "source": [
    "Variable             : Variable Type\n",
    "1. sand, silt, clay  : \n",
    "2. group             :\n",
    "3. soiltype          :"
   ]
  },
  {
   "cell_type": "raw",
   "metadata": {
    "solution2": "hidden"
   },
   "source": [
    "Variable             : Variable Type\n",
    "1. sand, silt, clay  : numerical variables\n",
    "2. group             : categorical nominal\n",
    "3. soiltype          : categorical nominal"
   ]
  },
  {
   "cell_type": "markdown",
   "metadata": {},
   "source": [
    "### 1.4 Plot own group's data as ternary plot"
   ]
  },
  {
   "cell_type": "markdown",
   "metadata": {},
   "source": [
    "The graphing libraries that we usually use (e.g. seaborn or matplotlib) do not have a specific function that enables us to easily plot a soil texture ternary plot. Here we will instead import a custom module that has been designed for the purpose (the source is available on Github at https://github.com/mishagrol/SoilTriangle).\n",
    "\n",
    "Edit the code block below to insert your group name in the line `df = df.query('group == \"Amoebae\"')`. Run the code block to produce the graph. Try commenting out the line you previously edited by adding a `#` symbol at the start of the line, then rerun the code. What does this do?\n"
   ]
  },
  {
   "cell_type": "code",
   "execution_count": null,
   "metadata": {},
   "outputs": [],
   "source": [
    "#This code imports the libraries that allow Python to draw a Triangle Plot\n",
    "\n",
    "from trianglegraphgc import SoilTrianglePlot\n",
    "import matplotlib.cm as cm\n",
    "import numpy as np\n",
    "import matplotlib.pyplot as plt\n",
    "import pandas as pd\n",
    "#set the size of the plot\n",
    "plt.rcParams['figure.figsize'] = [12, 8]\n",
    "plt.rcParams.update({'font.size': 22})\n",
    "\n",
    "#This graphing module only takes data in the form of a csv\n",
    "#This code block opens the excel file and saves it as a csv \n",
    "#It also uses a method called .query() to select only data from you group\n",
    "\n",
    "df=pd.read_excel('soil_data_groups.xlsx')\n",
    "\n",
    "df['site']=df['group']+' '+df['sample#'].map(str)\n",
    "df = df.query('group == \"Amoebae\"')\n",
    "print(df)\n",
    "df.to_csv('soil_data_own_group.csv', index=False)\n",
    "\n",
    "#generate the plot\n",
    "tp = SoilTrianglePlot('Ternary Plot of Soil Structure for Modelled Soils')\n",
    "tp.soil_categories(country='Britain')\n",
    "tp.scatter_from_csv('soil_data_own_group.csv', hue='om', tags='site')\n",
    "tp.colorbar('Organic matter (%)')\n",
    "tp.show('triangleplot_british')\n",
    "\n",
    "#Save the plot as a JPEG file (you could also save as a png or PDF)\n",
    "plt.savefig('my_ternary_plot.jpeg')"
   ]
  },
  {
   "cell_type": "markdown",
   "metadata": {},
   "source": [
    "# Plot bar chart of own group data only\n",
    "\n",
    "In Variation 1, you used Seaborn to plot histograms. The code in the cell below uses Pandas to draw a stacked bar graph of the different soil conditions your group has modelled. It reads in data from the csv that you created in the previous code cell (called `soil_data_own_group.csv`).\n",
    "\n",
    "1. Run the code to see the result. \n",
    "2. The plot does not have a y axis label: edit the code to add an appropriate y axis label then rerun the code. \n",
    "\n",
    "We will explore different types of plot in the lecture in week 2. "
   ]
  },
  {
   "cell_type": "code",
   "execution_count": null,
   "metadata": {},
   "outputs": [],
   "source": [
    "# Bar charts\n",
    "\n",
    "# importing package\n",
    "import matplotlib.pyplot as plt\n",
    "import numpy as np\n",
    "import pandas as pd\n",
    " \n",
    "# create data\n",
    "df = pd.read_csv(\"soil_data_own_group.csv\")\n",
    "# view data\n",
    "print(df)\n",
    " \n",
    "# plot data in stack manner of bar type\n",
    "df[['sand', 'silt', 'clay', 'om', 'soiltype']].plot(x='soiltype', kind='bar', stacked=True, title='Composition of modelled soil types');\n",
    "plt.xlabel(\"Soil Type\")\n",
    "plt.show()"
   ]
  },
  {
   "cell_type": "markdown",
   "metadata": {},
   "source": [
    "### How does your data compare to other groups?\n",
    "\n",
    "In this comparison, we want to see how the data from different groups compares. To be able to compare different groups' data, we need to plot comparable data on the same plot. In this case, it makes sense to draw a different plot for each soil type in the dataset. \n",
    "\n",
    "We can't know in advance what soil types groups will have entered, so we can read this directly from the data. In the code below, `df.soiltype.unique()` returns a list of all the unique soil types in the group dataset. The code uses a loop to loop through each of those soil types. Since the graph plotting code is in in the repeated block of that loop, the code draws a different graph for each soil type. \n",
    "\n",
    "We will explore the use of loops to plot graphs further in the lecture in week 2. "
   ]
  },
  {
   "cell_type": "code",
   "execution_count": null,
   "metadata": {
    "scrolled": false
   },
   "outputs": [],
   "source": [
    "# Use single spreadsheet for groups\n",
    "#Loops through different soil types and plot data from all groups that have studied that soil type\n",
    "import matplotlib.pyplot as plt\n",
    "import numpy as np\n",
    "import pandas as pd\n",
    " \n",
    "# read data into a dataframe of all groups\n",
    "df = pd.read_excel(\"soil_data_groups.xlsx\")\n",
    " \n",
    "for soiltype in df.soiltype.unique():\n",
    "    print(soiltype) #Print label for the soil type\n",
    "    df.query('soiltype == @soiltype')[['sand', 'silt', 'clay', 'om', 'soiltype', 'group']].plot(x='group', kind='bar', stacked=True)\n",
    "    plt.xlabel(\"Group\")\n",
    "    plt.ylabel(\"Count\")\n",
    "    plt.title(f\"Soil composition for soil of type {soiltype}\")\n",
    "    plt.legend(bbox_to_anchor=(1.0, 1.0))\n",
    "    plt.show()"
   ]
  },
  {
   "cell_type": "markdown",
   "metadata": {},
   "source": [
    "**Group discussion questions**\n",
    "\n",
    "Once you have plotted all groups' data, discuss the following questions as a group:\n",
    " * Did you data agree with all groups? What variation did you see, and what do you think caused that variation?\n",
    " * What did each chart allow you to tell about your data? What other types of chart could you use?\n",
    " \n",
    " \n",
    "\n"
   ]
  },
  {
   "cell_type": "code",
   "execution_count": null,
   "metadata": {},
   "outputs": [],
   "source": []
  }
 ],
 "metadata": {
  "kernelspec": {
   "display_name": "Python 3 (ipykernel)",
   "language": "python",
   "name": "python3"
  },
  "language_info": {
   "codemirror_mode": {
    "name": "ipython",
    "version": 3
   },
   "file_extension": ".py",
   "mimetype": "text/x-python",
   "name": "python",
   "nbconvert_exporter": "python",
   "pygments_lexer": "ipython3",
   "version": "3.9.12"
  }
 },
 "nbformat": 4,
 "nbformat_minor": 4
}
