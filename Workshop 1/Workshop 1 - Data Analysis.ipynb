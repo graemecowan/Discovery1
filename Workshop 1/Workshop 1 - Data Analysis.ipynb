{
 "cells": [
  {
   "cell_type": "markdown",
   "metadata": {},
   "source": [
    "<img style=\"float: right;\" width = 450 src=\"ternary_uk.png\"> \n",
    "\n",
    "# Ternary Soil Plots\n",
    "\n",
    "### Generating Soil Texture Ternary Plots with Python\n",
    "\n",
    "\n",
    "\n",
    "A soil texture ternary plot is a graphical representation of the relative proportions of sand, silt, and clay in a soil sample. These three components are considered the main indicators of soil texture and are used to classify soils into different texture classes. \n",
    "\n",
    "The plot is arranged in the shape of a triangle, with the three corners representing sand, silt, and clay, respectively. Each point within the triangle represents a unique combination of the three components, and the relative position of a point within the triangle indicates the relative proportions of the components in the soil sample. This type of plot is often used in soil science to quickly and easily visualize the texture of a soil sample.\n",
    "\n",
    "The aim of this data analysis session is to plot a soil texture ternary plot of the data you have collected in the workshop to provide a visual comparison of your samples."
   ]
  },
  {
   "cell_type": "markdown",
   "metadata": {},
   "source": [
    "### 1.1 Download all group's soil structure data\n",
    "\n",
    "Download the all data from the workshop by running the code in the cell below. This code used a Python module called `requests` to download the Excel file from SharePoint and to save it locally.\n",
    "\n",
    "\n"
   ]
  },
  {
   "cell_type": "code",
   "execution_count": 12,
   "metadata": {},
   "outputs": [],
   "source": [
    "#download shared group data\n",
    "\n",
    "import requests\n",
    "import pandas as pd\n",
    "\n",
    "file_url ='https://uoe-my.sharepoint.com/:x:/g/personal/gcowan2_ed_ac_uk/EU430DLGumlGnVOSED31HPsB-q0W7UodH1G9AAO2CU7DsQ?download=1'\n",
    "\n",
    "image_name = 'soil_data_groups.xlsx'\n",
    "r = requests.get(file_url, stream=True)\n",
    "with open(image_name, 'wb') as f:\n",
    "    for chunk in r.iter_content():\n",
    "        f.write(chunk)\n"
   ]
  },
  {
   "cell_type": "markdown",
   "metadata": {},
   "source": [
    "### 1.2 Check the downloaded data\n",
    "\n",
    "You previously used the pandas method `read_excel` to read data into a dataframe during the Pseudomonas Analysis in Variation 1. \n",
    "\n",
    "Write Python code in the cell below to load the data in soil_data_groups.xlsx into a dataframe called `soil_df`, then print the contents of the dataframe."
   ]
  },
  {
   "cell_type": "code",
   "execution_count": 2,
   "metadata": {
    "solution2": "hidden",
    "solution2_first": true
   },
   "outputs": [],
   "source": [
    "#Write your code here\n"
   ]
  },
  {
   "cell_type": "code",
   "execution_count": 3,
   "metadata": {
    "solution2": "hidden"
   },
   "outputs": [
    {
     "name": "stdout",
     "output_type": "stream",
     "text": [
      "     sand   silt   clay     om           group box_label          soiltype  \\\n",
      "0   60.00  24.00  16.00  24.00  AmazingAmoebae         A             loam    \n",
      "1   49.00  43.00   8.00  66.00         Group 5         C   sandy silt loam   \n",
      "2   85.00  10.00   5.00    NaN        Group 11         C        loamy sand   \n",
      "3   49.00  44.00   7.00   0.19         Group12       b =   sandy silt loam   \n",
      "4   46.00  15.00  16.00  23.00         Group 3         A   sandy clay loam   \n",
      "5    0.20  36.00  18.00  26.00         Group 2         A               NaN   \n",
      "6   43.00  35.00   7.00  15.00         Group 4         A  silty clay loam    \n",
      "7   19.00  50.00  22.00   9.00        Group 10         C        clay loam    \n",
      "8   19.00  41.00  22.00  18.00         Group 9         B  silty clay loam    \n",
      "9   24.00  24.00  32.00  20.00         Group 1         B               NaN   \n",
      "10   0.47   0.15   0.15   0.23         Group 6         A               NaN   \n",
      "11  28.00  56.00  16.00    NaN         Group 7         C   sandy silt loam   \n",
      "12  51.00  40.00   5.00   3.00         Group 8         B               NaN   \n",
      "\n",
      "    Unnamed: 7  Unnamed: 8  Unnamed: 9  ...  Unnamed: 126  Unnamed: 127  \\\n",
      "0          NaN         NaN         NaN  ...           NaN           NaN   \n",
      "1          NaN         NaN         NaN  ...           NaN           NaN   \n",
      "2          NaN         NaN         NaN  ...           NaN           NaN   \n",
      "3          NaN         NaN         NaN  ...           NaN           NaN   \n",
      "4          NaN         NaN         NaN  ...           NaN           NaN   \n",
      "5          NaN         NaN         NaN  ...           NaN           NaN   \n",
      "6          NaN         NaN         NaN  ...           NaN           NaN   \n",
      "7          NaN         NaN         NaN  ...           NaN           NaN   \n",
      "8          NaN         NaN         NaN  ...           NaN           NaN   \n",
      "9          NaN         NaN         NaN  ...           NaN           NaN   \n",
      "10         NaN         NaN         NaN  ...           NaN           NaN   \n",
      "11         NaN         NaN         NaN  ...           NaN           NaN   \n",
      "12         NaN         NaN         NaN  ...           NaN           NaN   \n",
      "\n",
      "    Unnamed: 128  Unnamed: 129  Unnamed: 130  Unnamed: 131  Unnamed: 132  \\\n",
      "0            NaN           NaN           NaN           NaN           NaN   \n",
      "1            NaN           NaN           NaN           NaN           NaN   \n",
      "2            NaN           NaN           NaN           NaN           NaN   \n",
      "3            NaN           NaN           NaN           NaN           NaN   \n",
      "4            NaN           NaN           NaN           NaN           NaN   \n",
      "5            NaN           NaN           NaN           NaN           NaN   \n",
      "6            NaN           NaN           NaN           NaN           NaN   \n",
      "7            NaN           NaN           NaN           NaN           NaN   \n",
      "8            NaN           NaN           NaN           NaN           NaN   \n",
      "9            NaN           NaN           NaN           NaN           NaN   \n",
      "10           NaN           NaN           NaN           NaN           NaN   \n",
      "11           NaN           NaN           NaN           NaN           NaN   \n",
      "12           NaN           NaN           NaN           NaN           NaN   \n",
      "\n",
      "    Unnamed: 133  Unnamed: 134                                 Unnamed: 135  \n",
      "0            NaN           NaN                                          NaN  \n",
      "1            NaN           NaN                                          NaN  \n",
      "2            NaN           NaN                                          NaN  \n",
      "3            NaN           NaN                                          NaN  \n",
      "4            NaN           NaN                                          NaN  \n",
      "5            NaN           NaN  +                                            \n",
      "6            NaN           NaN                                          NaN  \n",
      "7            NaN           NaN                                          NaN  \n",
      "8            NaN           NaN                                          NaN  \n",
      "9            NaN           NaN                                          NaN  \n",
      "10           NaN           NaN                                          NaN  \n",
      "11           NaN           NaN                                          NaN  \n",
      "12           NaN           NaN                                          NaN  \n",
      "\n",
      "[13 rows x 136 columns]\n"
     ]
    }
   ],
   "source": [
    "import pandas as pd\n",
    "soil_df =pd.read_excel('soil_data_groups.xlsx')\n",
    "print(soil_df)"
   ]
  },
  {
   "cell_type": "markdown",
   "metadata": {},
   "source": [
    "### 1.3 Identify the types of variable your data contains\n",
    "\n",
    "In Variation 1, you learned that there are two main types of variable, **categorical variables** and **numerical variables**.\n",
    "\n",
    "Categorical variables can be either **nominal** and **ordinal**, and numerical variables can be either continuous or discrete. \n",
    "\n",
    "If you are unsure of these definitions, check Self Study Notebook 2.4 from Variation 1.\n",
    "\n",
    "Identify the types of variables contained in the following columns and write them in the text box below.\n"
   ]
  },
  {
   "cell_type": "raw",
   "metadata": {
    "solution2": "hidden",
    "solution2_first": true
   },
   "source": [
    "Variable             : Variable Type\n",
    "1. sand, silt, clay  : \n",
    "2. group             :\n",
    "3. soiltype          :"
   ]
  },
  {
   "cell_type": "raw",
   "metadata": {
    "solution2": "hidden"
   },
   "source": [
    "Variable             : Variable Type\n",
    "1. sand, silt, clay  : numerical variables\n",
    "2. group             : categorical nominal\n",
    "3. soiltype          : categorical nominal"
   ]
  },
  {
   "cell_type": "markdown",
   "metadata": {},
   "source": [
    "### 1.4 Plot own group's data as ternary plot"
   ]
  },
  {
   "cell_type": "markdown",
   "metadata": {},
   "source": [
    "The graphing libraries that we usually use (e.g. seaborn or matplotlib) do not have a specific function that enables us to easily plot a soil texture ternary plot. Here we will instead import a custom module that has been designed for the purpose (the source is available on Github at https://github.com/mishagrol/SoilTriangle).\n",
    "\n",
    "Edit the code block below to insert your group name in the line `df = df.query('group == \"Amoebae\"')`. Run the code block to produce the graph. Try commenting out the line you previously edited by adding a `#` symbol at the start of the line, then rerun the code. What does this do?\n"
   ]
  },
  {
   "cell_type": "code",
   "execution_count": null,
   "metadata": {},
   "outputs": [],
   "source": [
    "#This code imports the libraries that allow Python to draw a Triangle Plot\n",
    "\n",
    "from trianglegraphgc import SoilTrianglePlot\n",
    "import matplotlib.cm as cm\n",
    "import numpy as np\n",
    "import matplotlib.pyplot as plt\n",
    "import pandas as pd\n",
    "#set the size of the plot\n",
    "plt.rcParams['figure.figsize'] = [12, 8]\n",
    "plt.rcParams.update({'font.size': 22})\n",
    "\n",
    "#This graphing module only takes data in the form of a csv\n",
    "#This code block opens the excel file and saves it as a csv \n",
    "#It also uses a method called .query() to select only data from you group\n",
    "\n",
    "df=pd.read_excel('soil_data_groups.xlsx')\n",
    "\n",
    "df['site']=df['group']+' '+df['box_label'].map(str)\n",
    "df = df.query('group == \"AmazingAmoebae\"')\n",
    "print(df)\n",
    "df.to_csv('soil_data_own_group.csv', index=False)\n",
    "\n",
    "#generate the plot\n",
    "tp = SoilTrianglePlot('Ternary Plot of Soil Structure for Modelled Soils')\n",
    "tp.soil_categories(country='Britain')\n",
    "tp.scatter_from_csv('soil_data_own_group.csv', hue='om', tags='site')\n",
    "tp.colorbar('Organic matter (%)')\n",
    "tp.show('triangleplot_british')\n",
    "\n",
    "#Save the plot as a JPEG file (you could also save as a png or PDF)\n",
    "plt.savefig('my_ternary_plot.jpeg')"
   ]
  },
  {
   "cell_type": "markdown",
   "metadata": {},
   "source": [
    "# Plot bar chart of own group data only\n",
    "\n",
    "In Variation 1, you used Seaborn to plot histograms. The code in the cell below uses Pandas to draw a stacked bar graph of the different soil conditions your group has modelled. It reads in data from the csv that you created in the previous code cell (called `soil_data_own_group.csv`).\n",
    "\n",
    "1. Run the code to see the result. \n",
    "2. The plot does not have a y axis label: edit the code to add an appropriate y axis label then rerun the code. \n",
    "\n",
    "We will explore different types of plot in the lecture in week 2. "
   ]
  },
  {
   "cell_type": "code",
   "execution_count": null,
   "metadata": {},
   "outputs": [],
   "source": [
    "# Bar charts\n",
    "\n",
    "# importing package\n",
    "import matplotlib.pyplot as plt\n",
    "import numpy as np\n",
    "import pandas as pd\n",
    " \n",
    "# create data\n",
    "df = pd.read_csv(\"soil_data_own_group.csv\")\n",
    "# view data\n",
    "print(df)\n",
    " \n",
    "# plot data in stack manner of bar type\n",
    "df[['sand', 'silt', 'clay', 'om', 'soiltype']].plot(x='soiltype', kind='bar', stacked=True, title='Composition of modelled soil types');\n",
    "plt.xlabel(\"Soil Type\")\n",
    "plt.show()"
   ]
  },
  {
   "cell_type": "markdown",
   "metadata": {},
   "source": [
    "### How does your data compare to other groups?\n",
    "\n",
    "In this comparison, we want to see how the data from different groups compares. To be able to compare different groups' data, we need to plot comparable data on the same plot. In this case, it makes sense to draw a different plot for each box label in the dataset. \n",
    "\n",
    "We can't know in advance what soil types groups will have entered, so we can read this directly from the data. In the code below, `df.box_label.unique()` returns a list of all the unique box_label ids in the group dataset. The code uses a loop to loop through each of those box labels. Since the graph plotting code is in in the repeated block of that loop, the code draws a different graph for each box label. \n",
    "\n",
    "We will explore the use of loops to plot graphs further in the lecture in week 2. "
   ]
  },
  {
   "cell_type": "code",
   "execution_count": null,
   "metadata": {
    "scrolled": false
   },
   "outputs": [],
   "source": [
    "# Use single spreadsheet for groups\n",
    "#Loops through different box labels and plot data from all groups that have studied that soil type\n",
    "import matplotlib.pyplot as plt\n",
    "import numpy as np\n",
    "import pandas as pd\n",
    " \n",
    "# read data into a dataframe of all groups\n",
    "df = pd.read_excel(\"soil_data_groups.xlsx\")\n",
    " \n",
    "for box in df.box_label.unique():\n",
    "    print(box) #Print label for box\n",
    "    df.query('box_label == @box')[['sand', 'silt', 'clay', 'om', 'soiltype', 'group']].plot(x='group', kind='bar', stacked=True)\n",
    "    plt.xlabel(\"Group\")\n",
    "    plt.ylabel(\"Count\")\n",
    "    plt.title(f\"Soil composition for boxes labelled {box}\")\n",
    "    plt.legend(bbox_to_anchor=(1.0, 1.0))\n",
    "    plt.show()"
   ]
  },
  {
   "cell_type": "markdown",
   "metadata": {},
   "source": [
    "**Group discussion questions**\n",
    "\n",
    "Once you have plotted all groups' data, discuss the following questions as a group:\n",
    " * Did you data agree with all groups? What variation did you see, and what do you think caused that variation?\n",
    " * What did each chart allow you to tell about your data? What other types of chart could you use?\n",
    " \n",
    " \n",
    "\n"
   ]
  },
  {
   "cell_type": "code",
   "execution_count": null,
   "metadata": {},
   "outputs": [],
   "source": []
  }
 ],
 "metadata": {
  "kernelspec": {
   "display_name": "Python 3 (ipykernel)",
   "language": "python",
   "name": "python3"
  },
  "language_info": {
   "codemirror_mode": {
    "name": "ipython",
    "version": 3
   },
   "file_extension": ".py",
   "mimetype": "text/x-python",
   "name": "python",
   "nbconvert_exporter": "python",
   "pygments_lexer": "ipython3",
   "version": "3.9.12"
  }
 },
 "nbformat": 4,
 "nbformat_minor": 4
}
