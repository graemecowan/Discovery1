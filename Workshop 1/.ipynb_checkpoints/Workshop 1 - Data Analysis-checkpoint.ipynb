{
 "cells": [
  {
   "cell_type": "markdown",
   "metadata": {},
   "source": [
    "<img style=\"float: right;\" width = 450 src=\"ternary_uk.png\"> \n",
    "\n",
    "# Ternary Soil Plots\n",
    "\n",
    "### Generating Soil Texture Ternary Plots with Python\n",
    "\n",
    "\n",
    "\n",
    "A soil texture ternary plot is a graphical representation of the relative proportions of sand, silt, and clay in a soil sample. These three components are considered the main indicators of soil texture and are used to classify soils into different texture classes. \n",
    "\n",
    "The plot is arranged in the shape of a triangle, with the three corners representing sand, silt, and clay, respectively. Each point within the triangle represents a unique combination of the three components, and the relative position of a point within the triangle indicates the relative proportions of the components in the soil sample. This type of plot is often used in soil science to quickly and easily visualize the texture of a soil sample.\n",
    "\n",
    "The aim of this data analysis session is to plot a soil texture ternary plot of the data you have collected in the workshop to provide a visual comparison of your samples.\n",
    "\n",
    "\n",
    "You should have already entered your group's data into the spreadsheet at: <https://docs.google.com/spreadsheets/d/1A1RJ-sAi5mYouKR--rf63nZjF5GpuFRb/edit>\n",
    "\n",
    "**Please make sure that:**\n",
    "\n",
    "* All of your percentage values are integers (whole numbers)\n",
    "* You have not added a percentage sign after the number\n",
    "* Your values for sand + silt + clay add up to 100 (n.b this does not include the value for organic matter)\n",
    "* You have not left any other comments or formatting on the spreadsheet\n"
   ]
  },
  {
   "cell_type": "markdown",
   "metadata": {},
   "source": [
    "### 1.1 Download the class soil structure data\n",
    "\n",
    "Run the code cell below to download the soil data spreadsheet to your Noteable folder. This code uses a Python module called `requests` to download the spreadsheet file as a csv and to save it in the same location as this Jupyter notebook. "
   ]
  },
  {
   "cell_type": "code",
   "execution_count": null,
   "metadata": {},
   "outputs": [],
   "source": [
    "#the code in this cell downloads the excel file containing the soil data for the class\n",
    "#rerunning this cell will download the latest version of the sheet\n",
    "\n",
    "import requests\n",
    "import pandas as pd\n",
    "\n",
    "# Downloading URL of the Google Sheet\n",
    "url = \"https://docs.google.com/spreadsheets/d/1A1RJ-sAi5mYouKR--rf63nZjF5GpuFRb/export?format=csv\"\n",
    "\n",
    "# Output file name\n",
    "output_file = \"soil_data.csv\"\n",
    "\n",
    "# Download the Google Sheet\n",
    "response = requests.get(url)\n",
    "\n",
    "# Check if the request was successful\n",
    "if response.status_code == 200:\n",
    "    # Write the content to a CSV file\n",
    "    with open(output_file, 'wb') as file:\n",
    "        file.write(response.content)\n",
    "    print(f\"Google Sheet downloaded and saved as {output_file}.\")\n",
    "else:\n",
    "    print(f\"Failed to download the Google Sheet. HTTP Status Code: {response.status_code}\")\n"
   ]
  },
  {
   "cell_type": "markdown",
   "metadata": {},
   "source": [
    "### 1.2 Check the downloaded data\n",
    "\n",
    "You previously used the pandas function `read_csv()` to read data into a dataframe during the workshops in Variation 1. \n",
    "\n",
    "Write Python code in the cell below to load the data in soil_data.csv into a dataframe called `soil_df`, then print the contents of the dataframe. \n",
    "\n",
    "*Hint: you could also try using the function display(df) - that outputs a cleaner style than print(df).* "
   ]
  },
  {
   "cell_type": "code",
   "execution_count": null,
   "metadata": {
    "solution2": "hidden",
    "solution2_first": true
   },
   "outputs": [],
   "source": [
    "#Write your code here"
   ]
  },
  {
   "cell_type": "markdown",
   "metadata": {},
   "source": [
    "### 1.3 Identify the types of variable your data contains\n",
    "\n",
    "In Variation 1, you learned that there are two main types of variable, **categorical variables** and **numerical variables**.\n",
    "\n",
    "Categorical variables can be either **nominal** and **ordinal**, and numerical variables can be either continuous or discrete. \n",
    "\n",
    "If you are unsure of these definitions, check Self Study Notebook 2.4 from Variation 1.\n",
    "\n",
    "Identify the types of variables contained in the following columns and write them in the text box below.\n"
   ]
  },
  {
   "cell_type": "raw",
   "metadata": {
    "solution2": "hidden",
    "solution2_first": true
   },
   "source": [
    "Variable             : Variable Type\n",
    "1. sand, silt, clay  : \n",
    "2. group             :\n",
    "3. soiltype          :"
   ]
  },
  {
   "cell_type": "markdown",
   "metadata": {},
   "source": [
    "### 1.4 Plot own group's data as ternary plot"
   ]
  },
  {
   "cell_type": "markdown",
   "metadata": {},
   "source": [
    "The graphing libraries that we usually use (e.g. seaborn or matplotlib) do not have a specific function that enables us to easily plot a soil texture ternary plot. Here we will instead import a custom module that has been designed for the purpose (the source is available on Github at https://github.com/mishagrol/SoilTriangle).\n",
    "\n",
    "Edit the code block below to insert your group name in the line `df = df.query('group == \"PeatyBlinders\"')`. Run the code block to produce the graph. Try commenting out the line you previously edited by adding a `#` symbol at the start of the line, then rerun the code. What does this do?\n"
   ]
  },
  {
   "cell_type": "code",
   "execution_count": null,
   "metadata": {},
   "outputs": [],
   "source": [
    "#This code imports the libraries that allow Python to draw a Triangle Plot\n",
    "\n",
    "from trianglegraphgc import SoilTrianglePlot\n",
    "import matplotlib.cm as cm\n",
    "import numpy as np\n",
    "import matplotlib.pyplot as plt\n",
    "import pandas as pd\n",
    "#set the size of the plot\n",
    "plt.rcParams['figure.figsize'] = [12, 8]\n",
    "plt.rcParams.update({'font.size': 22})\n",
    "\n",
    "#This graphing module only takes data in the form of a csv\n",
    "#This code block opens the excel file and saves it as a csv \n",
    "#It also uses a method called .query() to select only data from you group\n",
    "\n",
    "df=pd.read_csv('soil_data.csv')\n",
    "\n",
    "df['site']=df['group']+' '+df['box_label'].map(str)\n",
    "df = df.query('group == \"Peaty Blinders \"') ## <---- EDIT THIS LINE\n",
    "display(df)\n",
    "df.to_csv('soil_data_own_group.csv', index=False)\n",
    "\n",
    "#generate the plot\n",
    "tp = SoilTrianglePlot('Ternary Plot of Soil Structure for Modelled Soils')\n",
    "tp.soil_categories(country='Britain')\n",
    "tp.scatter_from_csv('soil_data_own_group.csv', hue='om', tags='site')\n",
    "#tp.colorbar('Organic matter (%)')\n",
    "tp.show('triangleplot_british')\n",
    "\n",
    "#Save the plot as a JPEG file (you could also save as a png or PDF)\n",
    "plt.savefig('my_ternary_plot.jpeg')"
   ]
  },
  {
   "cell_type": "markdown",
   "metadata": {},
   "source": [
    "# Plot bar chart of own group data only\n",
    "\n",
    "In Variation 1, you used Seaborn to plot histograms. The code in the cell below uses Pandas to draw a stacked bar graph of the different soil conditions your group has modelled. It reads in data from the csv that you created in the previous code cell (called `soil_data_own_group.csv`).\n",
    "\n",
    "1. Run the code to see the result. \n",
    "2. The plot does not have a y axis label: edit the code to add an appropriate y axis label then rerun the code. \n",
    "\n",
    "We will explore different types of plot in the lecture in week 2. "
   ]
  },
  {
   "cell_type": "code",
   "execution_count": null,
   "metadata": {},
   "outputs": [],
   "source": [
    "# Bar charts\n",
    "\n",
    "# importing package\n",
    "import matplotlib.pyplot as plt\n",
    "import numpy as np\n",
    "import pandas as pd\n",
    " \n",
    "# create data\n",
    "df = pd.read_csv(\"soil_data_own_group.csv\")\n",
    "# view data\n",
    "display(df)\n",
    " \n",
    "# plot data in stack manner of bar type\n",
    "df[['sand', 'silt', 'clay', 'om', 'soiltype']].plot(x='soiltype', kind='bar', stacked=True, title='Composition of modelled soil types');\n",
    "plt.xlabel(\"Soil Type\")\n",
    "plt.show()"
   ]
  },
  {
   "cell_type": "markdown",
   "metadata": {},
   "source": [
    "### How does your data compare to other groups?\n",
    "\n",
    "In this comparison, we want to see how the data from different groups compares. To be able to compare different groups' data, we need to plot comparable data on the same plot. In this case, it makes sense to draw a different plot for each box label in the dataset. \n",
    "\n",
    "We can't know in advance what soil types groups will have entered, so we can read this directly from the data. In the code below, `df.box_label.unique()` returns a list of all the unique box_label ids in the group dataset. The code uses a loop to loop through each of those box labels. Since the graph plotting code is in in the repeated block of that loop, the code draws a different graph for each box label. \n",
    "\n",
    "We will explore the use of loops to plot graphs further in the lecture in week 2. "
   ]
  },
  {
   "cell_type": "code",
   "execution_count": null,
   "metadata": {},
   "outputs": [],
   "source": [
    "# Use single spreadsheet for groups\n",
    "#Loops through different box labels and plot data from all groups that have studied that soil type\n",
    "import matplotlib.pyplot as plt\n",
    "import numpy as np\n",
    "import pandas as pd\n",
    " \n",
    "# read data into a dataframe of all groups\n",
    "df = pd.read_csv(\"soil_data.csv\")\n",
    " \n",
    "for box in df.box_label.unique():\n",
    "    print(box) #Print label for box\n",
    "    df.query('box_label == @box')[['sand', 'silt', 'clay', 'om', 'soiltype', 'group']].plot(x='group', kind='bar', stacked=True)\n",
    "    plt.xlabel(\"Group\")\n",
    "    plt.ylabel(\"Count\")\n",
    "    plt.title(f\"Soil composition for boxes labelled {box}\")\n",
    "    plt.legend(bbox_to_anchor=(1.0, 1.0))\n",
    "    plt.show()"
   ]
  },
  {
   "cell_type": "markdown",
   "metadata": {},
   "source": [
    "**Group discussion questions**\n",
    "\n",
    "Once you have plotted all groups' data, discuss the following questions as a group:\n",
    " * Did you data agree with all groups? What variation did you see, and what do you think caused that variation?\n",
    " * What did each chart allow you to tell about your data? What other types of chart could you use?\n",
    " \n",
    " \n",
    "\n"
   ]
  },
  {
   "cell_type": "code",
   "execution_count": null,
   "metadata": {},
   "outputs": [],
   "source": []
  }
 ],
 "metadata": {
  "kernelspec": {
   "display_name": "Python 3 (ipykernel)",
   "language": "python",
   "name": "python3"
  },
  "language_info": {
   "codemirror_mode": {
    "name": "ipython",
    "version": 3
   },
   "file_extension": ".py",
   "mimetype": "text/x-python",
   "name": "python",
   "nbconvert_exporter": "python",
   "pygments_lexer": "ipython3",
   "version": "3.11.7"
  }
 },
 "nbformat": 4,
 "nbformat_minor": 4
}
