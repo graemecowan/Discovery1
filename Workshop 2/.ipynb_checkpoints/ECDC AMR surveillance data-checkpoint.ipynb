{
 "cells": [
  {
   "cell_type": "markdown",
   "id": "f060c3c1",
   "metadata": {},
   "source": [
    "\n",
    "\n",
    "# Workshop 2: Antimicrobial resistance\n",
    "\n",
    "<img src=\"freestocks-nss2eRzQwgw-unsplash.jpg\" style=\"float: right;\" width=\"300\" >Antimicrobial resistance (AMR) occurs when microorganisms develop the ability to survive exposure to antimicrobial drugs. This means that these drugs are no longer effective at killing or controlling the growth of the resistant microorganisms, which can lead to serious infections in humans and animals. \n",
    "\n",
    "AMR is a global public health threat as it can lead to the spread of untreatable diseases and increase the risk of outbreaks. EARS-Net (European Antimicrobial Resistance Surveillance Network) is a surveillance network  that monitors AMR in bacteria that cause infections in humans, under the coordination of the European Centre for Disease Prevention and Control (ECDC). \n",
    "\n",
    "EARS-Net collects data on a range of bacterial pathogens, including Escherichia coli, Staphylococcus aureus, and Streptococcus pneumoniae, as well as on the susceptibility of these bacteria to various antimicrobial drugs. The data is collected from a network of laboratories across the EU and is analyzed by the ECDC to generate annual reports on the status of AMR in the EU.\n",
    "\n",
    "In this workshop, we will use Python programming to analyse data from EARS-Net to help us understand the magnitude of the problem of AMR, and to see how the prevalence of AMR has changed over time. \n",
    "\n",
    "#### Intended Learning Outcomes\n",
    "\n",
    "By the end of this workshop, you should be able to:\n",
    "\n",
    "* Describe how AMR prevalence has changed within Europe over the past decade, and how AMR prevalence differs geographically. \n",
    "* Import filter and select data using the Pandas module in Python\n",
    "* Write code to produce appropriate graphs using the Seaborn module in Python\n",
    "\n",
    "### Working as a group\n",
    "\n",
    "The dataset we will analyse today is large - it contains AMR data for 8 bacterial species across 30 countries for 22 years. \n",
    "\n",
    "You should work together as a group:\n",
    "\n",
    "* **Discuss your code, ideas and answers with other members of the group.** Peer assistance (not copying answers but talking through your approaches to the problem) can help avoid you getting stuck, increase how much you learn from the session and make it more enjoyable.\n",
    "\n",
    "* **Co-ordinate your analyses.** Split the more involved tasks between the group: select different countries and organisms to look at and compare what you observe. \n",
    "\n",
    "### Final task\n",
    "\n",
    "* **As a group** Assemble a single figure that illustrates the problem of antimicrobial resistance. That figure may have individual subplots if you wish\n",
    "\n",
    "* **Individual work** Upload the figure to Pebblepad. Write a paragraph to accompany the figure your group produced. Explain current status of AMR in Europe and what your figure indicates regarding the need for the development of new antimicrobials and the better management of current ones. \n",
    "\n",
    "**Saving figures to disk** \n",
    "\n",
    "You will want to save your figures as JPG, PNG or PDF files. To do this you can use the command `plt.savefig(\"my_plot.png\")`. Replace the file extension with 'jpg' or 'pdf' to produce those types of files.\n"
   ]
  },
  {
   "cell_type": "markdown",
   "id": "eff29110",
   "metadata": {},
   "source": [
    "# Dataset Information\n",
    "\n",
    "Data were downloaded from https://atlas.ecdc.europa.eu/public/index.aspx?Dataset=27&HealthTopic=4. All indicators and all time periods were downloaded.\n",
    "    \n",
    "For further information about the data, see 'AMR_Information_about_the_data_2021.pdf'\n"
   ]
  },
  {
   "cell_type": "markdown",
   "id": "84ffa98a",
   "metadata": {},
   "source": [
    "### Importing modules\n",
    "\n",
    "As discussed in Lecture 2, we need to import external Python libraries (modules) before we can use them. By importing these libraries, the code we write will have access to a range of tools and functions for working with and visualising data. \n",
    "\n",
    "Here we import: \n",
    "* pandas: A library for data manipulation and analysis in Python. It provides tools for reading and writing data, handling missing values, and manipulating data frames.\n",
    "* matplotlib: A library for data visualization in Python. It provides functions for creating a wide variety of plots and charts, including scatter plots, bar plots, histograms, and many more.\n",
    "* seaborn: A library for statistical data visualization in Python. It is built on top of matplotlib and provides a high-level interface for drawing statistical graphics.\n",
    "\n"
   ]
  },
  {
   "cell_type": "code",
   "execution_count": 1,
   "id": "5818e806",
   "metadata": {},
   "outputs": [],
   "source": [
    "# import modules\n",
    "import pandas as pd\n",
    "import matplotlib.pyplot as plt\n",
    "import seaborn as sns"
   ]
  },
  {
   "cell_type": "markdown",
   "id": "252f0af4",
   "metadata": {},
   "source": [
    "# Task 2.1: Loading in the data\n",
    "\n",
    "Before we can analyse or visulise the dataset, we first need to load it. The data is provided as a CSV (Comma Separated Values) file. \n",
    "\n",
    "To load a CSV file into Pandas, you can use the read_csv function of the Pandas library. Here is an example of how to use read_csv:\n",
    "\n",
    "```Python\n",
    "import pandas as pd\n",
    "\n",
    "# Load the CSV file into a DataFrame named 'df'\n",
    "df = pd.read_csv('file.csv')\n",
    "\n",
    "```\n",
    "\n",
    "In the example above, `read_csv()` reads the CSV file called 'file.csv' from the specified path and loads it into a Pandas DataFrame.\n",
    "\n",
    "Load the data in the file named 'ECDC_percentage_resistant.csv' into a Pandas dataframe called amr_df\n"
   ]
  },
  {
   "cell_type": "code",
   "execution_count": 2,
   "id": "21352121",
   "metadata": {},
   "outputs": [],
   "source": []
  },
  {
   "cell_type": "markdown",
   "id": "eb5adfea",
   "metadata": {},
   "source": [
    "# Task 2.2: Checking the loaded data\n",
    "\n",
    "Before we start working with the data, you should check that it has been correctly loaded in. Are your data types as expected?\n",
    "\n",
    "Run the following commands to view your dataframe and its attributes:\n",
    "\n",
    "|Command|Description|\n",
    "|-------|:-----------|\n",
    "|amr_df.head(5)|The head method displays the first 5 lines of the dataframe|\n",
    "|amr_df.info()| The info method is useful for getting a quick overview of the data in a DataFrame, especially when working with large datasets. It displays the number of rows and columns in the DataFrame, the data type of each column, the number of non-null values in each column, and the memory usage of the DataFrame.|\n"
   ]
  },
  {
   "cell_type": "code",
   "execution_count": null,
   "id": "f3a469cd",
   "metadata": {},
   "outputs": [],
   "source": []
  },
  {
   "cell_type": "markdown",
   "id": "d88ae5bf",
   "metadata": {},
   "source": [
    "# Task 2.3: Counting Species\n",
    "    \n",
    "You should now explore the dataset to find out:\n",
    "\n",
    "a) What bacterial species are included and how many data entries there are for each?\n",
    "\n",
    "b) Which countries are represented in the dataset?\n",
    "\n",
    "c) Which antibiotic classes are included in data?\n",
    "\n",
    "*Hint: value_counts() produces a frequency table for a categorial variable*"
   ]
  },
  {
   "cell_type": "code",
   "execution_count": null,
   "id": "67071316",
   "metadata": {},
   "outputs": [],
   "source": []
  },
  {
   "cell_type": "markdown",
   "id": "eab36dc3",
   "metadata": {},
   "source": [
    "# Task 2.4: Exploring the prevalence of AMR over time\n",
    "\n",
    "The data covers a time frame from 2001 to 2021, split by country, bacterial species and antimicrobial group.\n",
    "\n",
    "The aim of the remainder of this workshop is to produce figures that illustrate:\n",
    "\n",
    "* The magnitude of the problem of AMR: what percentage of isolates are resistant to antibiotics. How has that changed over time?\n",
    "\n",
    "* Are there geographical differences in the prevalence of AMR?\n",
    "\n",
    "What factors do you think may be responsible for the trends you have observed?\n",
    "\n",
    "\n",
    "\n",
    "**You should complete this task *as a group*.**\n",
    "\n",
    "Hints: \n",
    "\n",
    "* Stop and discuss: sketch out what you would like your figure to look like\n",
    "\n",
    "* **You will need to subset your data to isolate individual countries, organisms or antibiotic classes.** `.query()` was covered in this week's lecture.\n",
    "* Seaborn's lineplot is a good way to plot the change in a numerical variable over time. \n",
    "* Choropleth plots can be used to visualise data in a geographical context.\n",
    "* If you want to create multiple panels in your plot, you could look up plt.subplots() https://www.w3schools.com/python/matplotlib_subplot.asp\n",
    "\n",
    "n.b. your figure should be *representative* of your findings: you should not attempt to plot all the data!"
   ]
  },
  {
   "cell_type": "code",
   "execution_count": null,
   "id": "0191bfef",
   "metadata": {},
   "outputs": [],
   "source": []
  }
 ],
 "metadata": {
  "kernelspec": {
   "display_name": "Python 3 (ipykernel)",
   "language": "python",
   "name": "python3"
  },
  "language_info": {
   "codemirror_mode": {
    "name": "ipython",
    "version": 3
   },
   "file_extension": ".py",
   "mimetype": "text/x-python",
   "name": "python",
   "nbconvert_exporter": "python",
   "pygments_lexer": "ipython3",
   "version": "3.8.16"
  }
 },
 "nbformat": 4,
 "nbformat_minor": 5
}
